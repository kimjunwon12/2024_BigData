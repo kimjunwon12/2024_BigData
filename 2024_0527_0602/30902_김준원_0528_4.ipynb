{
 "cells": [
  {
   "cell_type": "markdown",
   "id": "8a537f99",
   "metadata": {},
   "source": [
    "# 30902_김준원_0528_4"
   ]
  },
  {
   "cell_type": "markdown",
   "id": "b3d6d359",
   "metadata": {},
   "source": [
    "정수 계산에서 나머지를 구하시오.\n",
    "\n",
    "예를 들어\n",
    "\n",
    "7 / 5 의 나머지는 2입니다."
   ]
  },
  {
   "cell_type": "code",
   "execution_count": 1,
   "id": "11b722b8",
   "metadata": {},
   "outputs": [
    {
     "name": "stdout",
     "output_type": "stream",
     "text": [
      "7 5\n",
      "2\n"
     ]
    }
   ],
   "source": [
    "num1, num2 = map(int, input().split())\n",
    "print(num1 % num2)"
   ]
  },
  {
   "cell_type": "markdown",
   "id": "59b50d7c",
   "metadata": {},
   "source": [
    "초를 입력받아 분 / 초의 형태로 출력하시오.\n",
    "\n",
    "예)\n",
    "\n",
    "60  ====>   1 0    (1분 0초를 뜻함)\n",
    "\n",
    "70    ====>    1  10       (1분 10초를 뜻함)"
   ]
  },
  {
   "cell_type": "code",
   "execution_count": 3,
   "id": "48f87097",
   "metadata": {},
   "outputs": [
    {
     "name": "stdout",
     "output_type": "stream",
     "text": [
      "70\n",
      "1 10\n"
     ]
    }
   ],
   "source": [
    "s = int(input())\n",
    "print(s//60,s%60)"
   ]
  },
  {
   "cell_type": "markdown",
   "id": "767cdba9",
   "metadata": {},
   "source": [
    "섭씨 온도가 입력되면 화씨 온도로 변환하시오.\n",
    "\n",
    "화씨 온도 = 9 / 5 * 섭씨온도 + 32"
   ]
  },
  {
   "cell_type": "code",
   "execution_count": 5,
   "id": "3b5446ce",
   "metadata": {},
   "outputs": [
    {
     "name": "stdout",
     "output_type": "stream",
     "text": [
      "30\n",
      "86.000\n"
     ]
    }
   ],
   "source": [
    "temperature = int(input())\n",
    "print('%.3f' % (9/5 * temperature + 32))"
   ]
  },
  {
   "cell_type": "markdown",
   "id": "fefece8d",
   "metadata": {},
   "source": [
    "### 10진수 정수를 입력받아 8진수와 16진수로 출력한다."
   ]
  },
  {
   "cell_type": "code",
   "execution_count": 7,
   "id": "4a5443dd",
   "metadata": {},
   "outputs": [
    {
     "name": "stdout",
     "output_type": "stream",
     "text": [
      "10\n",
      "12 A\n"
     ]
    }
   ],
   "source": [
    "num = int(input())\n",
    "print('%o %X' % (num,num))"
   ]
  },
  {
   "cell_type": "markdown",
   "id": "885c786e",
   "metadata": {},
   "source": [
    "입력된 문자를 그대로 출력한다."
   ]
  },
  {
   "cell_type": "code",
   "execution_count": 13,
   "id": "09b850ef",
   "metadata": {},
   "outputs": [
    {
     "name": "stdout",
     "output_type": "stream",
     "text": [
      "a\n",
      "a\n"
     ]
    }
   ],
   "source": [
    "c = input()\n",
    "print(c)"
   ]
  }
 ],
 "metadata": {
  "kernelspec": {
   "display_name": "Python 3 (ipykernel)",
   "language": "python",
   "name": "python3"
  },
  "language_info": {
   "codemirror_mode": {
    "name": "ipython",
    "version": 3
   },
   "file_extension": ".py",
   "mimetype": "text/x-python",
   "name": "python",
   "nbconvert_exporter": "python",
   "pygments_lexer": "ipython3",
   "version": "3.9.7"
  }
 },
 "nbformat": 4,
 "nbformat_minor": 5
}
