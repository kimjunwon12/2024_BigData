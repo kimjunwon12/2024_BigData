{
 "cells": [
  {
   "cell_type": "markdown",
   "id": "48b25a26",
   "metadata": {},
   "source": [
    "# 30902_김준원_0520_2"
   ]
  },
  {
   "cell_type": "markdown",
   "id": "0635242e",
   "metadata": {},
   "source": [
    "## 두 정수의 덧셈의 결과를 출력한다.\n",
    "\n",
    "## 두 수는 int 범위를 넘어선 64비트 정수형 값이다."
   ]
  },
  {
   "cell_type": "code",
   "execution_count": 5,
   "id": "8b899afe",
   "metadata": {},
   "outputs": [
    {
     "name": "stdout",
     "output_type": "stream",
     "text": [
      "11111111111 22222222222\n",
      "33333333333\n"
     ]
    }
   ],
   "source": [
    "num1, num2 = map(int, input().split())\n",
    "print(num1+num2)"
   ]
  },
  {
   "cell_type": "markdown",
   "id": "846074be",
   "metadata": {},
   "source": [
    "# 두 정수를 입력받아 아래와 같이 출력하시오.\n",
    "\n",
    "예)  3 2\n",
    "\n",
    "3+2=5\n",
    "3-2=1\n",
    "3*2=6\n",
    "3/2=1"
   ]
  },
  {
   "cell_type": "code",
   "execution_count": 6,
   "id": "7f5196f5",
   "metadata": {},
   "outputs": [
    {
     "name": "stdout",
     "output_type": "stream",
     "text": [
      "3 2\n",
      "3+2=5\n",
      "3-2=1\n",
      "3*2=6\n",
      "3/2=1\n"
     ]
    }
   ],
   "source": [
    "num1, num2 = input().split()\n",
    "op = ['+', '-', '*', '/']\n",
    "for i in range(4): print(num1+op[i]+num2+'=',int(eval(num1+op[i]+num2)), sep = '')\n"
   ]
  },
  {
   "cell_type": "markdown",
   "id": "512af04e",
   "metadata": {},
   "source": [
    "# 두 실수를 입력받아 두 실수의 곱을 출력하되 소수 둘째자리까지 출력하시오."
   ]
  },
  {
   "cell_type": "code",
   "execution_count": 11,
   "id": "a118f832",
   "metadata": {},
   "outputs": [
    {
     "name": "stdout",
     "output_type": "stream",
     "text": [
      "1.23 4.56\n",
      "5.61\n"
     ]
    }
   ],
   "source": [
    "num1, num2 = map(float, input().split())\n",
    "print('%.2f' % (num1*num2))"
   ]
  }
 ],
 "metadata": {
  "kernelspec": {
   "display_name": "Python 3 (ipykernel)",
   "language": "python",
   "name": "python3"
  },
  "language_info": {
   "codemirror_mode": {
    "name": "ipython",
    "version": 3
   },
   "file_extension": ".py",
   "mimetype": "text/x-python",
   "name": "python",
   "nbconvert_exporter": "python",
   "pygments_lexer": "ipython3",
   "version": "3.9.7"
  }
 },
 "nbformat": 4,
 "nbformat_minor": 5
}
