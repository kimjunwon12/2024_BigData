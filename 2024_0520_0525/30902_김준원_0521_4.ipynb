{
 "cells": [
  {
   "cell_type": "markdown",
   "id": "9de63f82",
   "metadata": {},
   "source": [
    "# 30902_김준원_0521_4"
   ]
  },
  {
   "cell_type": "markdown",
   "id": "4b761370",
   "metadata": {},
   "source": [
    "## 딕셔너리 : 사전\n",
    " - 키와 값으로 구성됩니다.\n",
    " - {}를 이용한다"
   ]
  },
  {
   "cell_type": "code",
   "execution_count": 1,
   "id": "d1b1ec89",
   "metadata": {},
   "outputs": [
    {
     "name": "stdout",
     "output_type": "stream",
     "text": [
      "{'break': '꺠어지다', 'bring': '가져오다', 'brush': '용감한'}\n"
     ]
    }
   ],
   "source": [
    "eng = {'break':'꺠어지다','bring':'가져오다','brush':'용감한'}\n",
    "print(eng)"
   ]
  },
  {
   "cell_type": "code",
   "execution_count": 4,
   "id": "73c325e0",
   "metadata": {},
   "outputs": [
    {
     "name": "stdout",
     "output_type": "stream",
     "text": [
      "꺠어지다\n"
     ]
    }
   ],
   "source": [
    "print(eng['break'])"
   ]
  },
  {
   "cell_type": "code",
   "execution_count": 8,
   "id": "935204eb",
   "metadata": {},
   "outputs": [
    {
     "name": "stdout",
     "output_type": "stream",
     "text": [
      "어떤 메뉴를 드시겠습니까?\n"
     ]
    },
    {
     "ename": "KeyError",
     "evalue": "''",
     "output_type": "error",
     "traceback": [
      "\u001b[1;31m---------------------------------------------------------------------------\u001b[0m",
      "\u001b[1;31mKeyError\u001b[0m                                  Traceback (most recent call last)",
      "\u001b[1;32m~\\AppData\\Local\\Temp/ipykernel_8188/3198074067.py\u001b[0m in \u001b[0;36m<module>\u001b[1;34m\u001b[0m\n\u001b[0;32m      1\u001b[0m \u001b[0mmenu\u001b[0m\u001b[1;33m=\u001b[0m\u001b[1;33m{\u001b[0m\u001b[1;34m'김밥'\u001b[0m\u001b[1;33m:\u001b[0m\u001b[1;36m2500\u001b[0m\u001b[1;33m,\u001b[0m\u001b[1;34m'참치깁밥'\u001b[0m\u001b[1;33m:\u001b[0m\u001b[1;36m3500\u001b[0m\u001b[1;33m,\u001b[0m\u001b[1;34m'라면'\u001b[0m\u001b[1;33m:\u001b[0m\u001b[1;36m3000\u001b[0m\u001b[1;33m,\u001b[0m\u001b[1;34m'치즈라면'\u001b[0m\u001b[1;33m:\u001b[0m\u001b[1;36m4000\u001b[0m\u001b[1;33m}\u001b[0m\u001b[1;33m\u001b[0m\u001b[1;33m\u001b[0m\u001b[0m\n\u001b[0;32m      2\u001b[0m \u001b[0meat\u001b[0m \u001b[1;33m=\u001b[0m \u001b[0minput\u001b[0m\u001b[1;33m(\u001b[0m\u001b[1;34m'어떤 메뉴를 드시겠습니까?'\u001b[0m\u001b[1;33m)\u001b[0m\u001b[1;33m\u001b[0m\u001b[1;33m\u001b[0m\u001b[0m\n\u001b[1;32m----> 3\u001b[1;33m \u001b[0mprint\u001b[0m\u001b[1;33m(\u001b[0m\u001b[0mmenu\u001b[0m\u001b[1;33m[\u001b[0m\u001b[0meat\u001b[0m\u001b[1;33m]\u001b[0m\u001b[1;33m,\u001b[0m\u001b[1;34m'원 입니다.'\u001b[0m\u001b[1;33m)\u001b[0m\u001b[1;33m\u001b[0m\u001b[1;33m\u001b[0m\u001b[0m\n\u001b[0m",
      "\u001b[1;31mKeyError\u001b[0m: ''"
     ]
    }
   ],
   "source": [
    "menu={'김밥':2500,'참치깁밥':3500,'라면':3000,'치즈라면':4000}\n",
    "eat = input('어떤 메뉴를 드시겠습니까?')\n",
    "print(menu[eat],'원 입니다.')"
   ]
  },
  {
   "cell_type": "code",
   "execution_count": 9,
   "id": "cad053bd",
   "metadata": {},
   "outputs": [],
   "source": [
    "menu['라면'] = 3500\n",
    "menu['치즈라면'] = 4500"
   ]
  },
  {
   "cell_type": "code",
   "execution_count": 13,
   "id": "227d0ac0",
   "metadata": {},
   "outputs": [
    {
     "name": "stdout",
     "output_type": "stream",
     "text": [
      "{'김밥': 3000, '참치깁밥': 3500, '라면': 3500, '치즈라면': 4500}\n"
     ]
    }
   ],
   "source": [
    "print(menu)"
   ]
  },
  {
   "cell_type": "code",
   "execution_count": 14,
   "id": "91029db8",
   "metadata": {},
   "outputs": [
    {
     "name": "stdout",
     "output_type": "stream",
     "text": [
      "{'김밥': 3500, '참치깁밥': 3500, '라면': 3500, '치즈라면': 4500}\n"
     ]
    }
   ],
   "source": [
    "menu['김밥'] += 500\n",
    "print(menu)"
   ]
  },
  {
   "cell_type": "code",
   "execution_count": 16,
   "id": "15c95637",
   "metadata": {},
   "outputs": [
    {
     "name": "stdout",
     "output_type": "stream",
     "text": [
      "{'김밥': 3500, '참치깁밥': 3500, '라면': 3500, '치즈라면': 4500, '돈까스': 6000}\n"
     ]
    }
   ],
   "source": [
    "# 돈까스 6000원 추가해 봅시다.\n",
    "menu['돈까스']= 6000\n",
    "print(menu)"
   ]
  },
  {
   "cell_type": "code",
   "execution_count": 17,
   "id": "141d396b",
   "metadata": {},
   "outputs": [
    {
     "name": "stdout",
     "output_type": "stream",
     "text": [
      "추가할 메뉴는?돈가스\n",
      "메뉴의 가격은?700\n",
      "{'김밥': 2500, '참치깁밥': 3500, '라면': 3000, '치즈라면': 4000, '돈가스': 700}\n"
     ]
    }
   ],
   "source": [
    "menu={'김밥':2500,'참치깁밥':3500,'라면':3000,'치즈라면':4000}\n",
    "# 메뉴 및 가격을 input을 이용해서 추가하는 프로그램 만들기\n",
    "name = input('추가할 메뉴는?')\n",
    "price = int(input('메뉴의 가격은?'))\n",
    "\n",
    "menu[name] = price\n",
    "print(menu)"
   ]
  },
  {
   "cell_type": "code",
   "execution_count": 19,
   "id": "dfdabd47",
   "metadata": {},
   "outputs": [
    {
     "name": "stdout",
     "output_type": "stream",
     "text": [
      "{'김밥': 2500, '참치깁밥': 3500, '라면': 3000, '치즈라면': 4000, '돈가스': 700}\n",
      "삭제할 메뉴는?김밥\n",
      "{'참치깁밥': 3500, '라면': 3000, '치즈라면': 4000, '돈가스': 700}\n"
     ]
    }
   ],
   "source": [
    "# 키-값을 삭제하기 delete\n",
    "# 돈가스 삭제\n",
    "print(menu)\n",
    "name = input(\"삭제할 메뉴는?\")\n",
    "del menu[name]\n",
    "print(menu)"
   ]
  },
  {
   "cell_type": "code",
   "execution_count": 20,
   "id": "e5d079bb",
   "metadata": {},
   "outputs": [
    {
     "name": "stdout",
     "output_type": "stream",
     "text": [
      "dict_keys(['참치깁밥', '라면', '치즈라면', '돈가스'])\n"
     ]
    }
   ],
   "source": [
    "# 딕셔너리의 키만 꺼내기 : keys()\n",
    "print(menu.keys())"
   ]
  },
  {
   "cell_type": "code",
   "execution_count": 22,
   "id": "54fdb30c",
   "metadata": {},
   "outputs": [
    {
     "name": "stdout",
     "output_type": "stream",
     "text": [
      "dict_values([3500, 3000, 4000, 700])\n"
     ]
    }
   ],
   "source": [
    "# 딕셔너리의 값만 꺼내기: values()\n",
    "print(menu.values())"
   ]
  },
  {
   "cell_type": "code",
   "execution_count": 24,
   "id": "1696129f",
   "metadata": {},
   "outputs": [
    {
     "name": "stdout",
     "output_type": "stream",
     "text": [
      "['참치깁밥', '라면', '치즈라면', '돈가스']\n"
     ]
    }
   ],
   "source": [
    "# 추출한 키값을 결과값을 리스트로 바꾸기\n",
    "print(list(menu.keys()))"
   ]
  },
  {
   "cell_type": "code",
   "execution_count": 26,
   "id": "18458fac",
   "metadata": {},
   "outputs": [
    {
     "name": "stdout",
     "output_type": "stream",
     "text": [
      "[3500, 3000, 4000, 700]\n"
     ]
    }
   ],
   "source": [
    "print(list(menu.values()))"
   ]
  },
  {
   "cell_type": "code",
   "execution_count": 28,
   "id": "c85dc543",
   "metadata": {},
   "outputs": [
    {
     "name": "stdout",
     "output_type": "stream",
     "text": [
      "dict_items([('참치깁밥', 3500), ('라면', 3000), ('치즈라면', 4000), ('돈가스', 700)])\n"
     ]
    }
   ],
   "source": [
    "print(menu.items())"
   ]
  },
  {
   "cell_type": "code",
   "execution_count": 33,
   "id": "d65ce1ea",
   "metadata": {},
   "outputs": [
    {
     "name": "stdout",
     "output_type": "stream",
     "text": [
      "['치즈라면', '참치깁밥', '라면', '돈가스']\n",
      "[('돈가스', 700), ('라면', 3000), ('참치깁밥', 3500), ('치즈라면', 4000)]\n"
     ]
    }
   ],
   "source": [
    "# 키를 기준으로 딕셔너리 정렬하기 : sorted()\n",
    "# 키를 기준으로 딕셔너리 역순 정렬하기 : reverse = True\n",
    "# 키-값 쌍을 묶어서 딕셔너리 정렬하기 : sorted() items\n",
    "print(sorted(menu.keys(),reverse = True))\n",
    "print(sorted(menu.items()))"
   ]
  },
  {
   "cell_type": "code",
   "execution_count": 38,
   "id": "1ea73800",
   "metadata": {},
   "outputs": [
    {
     "name": "stdout",
     "output_type": "stream",
     "text": [
      "[('치즈라면', 4000), ('참치깁밥', 3500)]\n"
     ]
    }
   ],
   "source": [
    "# 값을 기준으로 키-값 정렬하기 : sorted()\n",
    "import operator\n",
    "\n",
    "print(sorted(menu.items(), key=operator.itemgetter(1),reverse=True)[:2])"
   ]
  },
  {
   "cell_type": "markdown",
   "id": "8f6a8add",
   "metadata": {},
   "source": [
    "# 조건문으로 딕셔너리 다루기"
   ]
  },
  {
   "cell_type": "code",
   "execution_count": 45,
   "id": "b4052812",
   "metadata": {},
   "outputs": [
    {
     "name": "stdout",
     "output_type": "stream",
     "text": [
      "{'도윤': 43, '하윤': 82, '시우': 76, '지유': 61, '주원': 94}\n",
      "어떤 학생의 점수가 궁금하신가요?\n",
      "해당 학생은 없습니다.\n"
     ]
    }
   ],
   "source": [
    "midterm = {'도윤':43,'하윤':82,'시우':76,'지유':61,'주원':94}\n",
    "print(midterm)\n",
    "student = input('어떤 학생의 점수가 궁금하신가요?')\n",
    "\n",
    "# if 어떤학생인지 찾기\n",
    "if student in midterm.keys():\n",
    "    print(midterm[student],'입니다')\n",
    "else:\n",
    "    print('해당 학생은 없습니다.')"
   ]
  },
  {
   "cell_type": "code",
   "execution_count": 48,
   "id": "4f499ef7",
   "metadata": {},
   "outputs": [
    {
     "name": "stdout",
     "output_type": "stream",
     "text": [
      "하윤 82\n",
      "시우 76\n",
      "주원 94\n"
     ]
    }
   ],
   "source": [
    "# 중간고사 점수가 70점 이상인 학생은 누구?\n",
    "midterm = {'도윤':43,'하윤':82,'시우':76,'지유':61,'주원':94}\n",
    "\n",
    "for k,v in midterm.items():\n",
    "    if v >= 70 :\n",
    "        print(k,v)"
   ]
  },
  {
   "cell_type": "code",
   "execution_count": null,
   "id": "339b49d0",
   "metadata": {},
   "outputs": [],
   "source": []
  }
 ],
 "metadata": {
  "kernelspec": {
   "display_name": "Python 3 (ipykernel)",
   "language": "python",
   "name": "python3"
  },
  "language_info": {
   "codemirror_mode": {
    "name": "ipython",
    "version": 3
   },
   "file_extension": ".py",
   "mimetype": "text/x-python",
   "name": "python",
   "nbconvert_exporter": "python",
   "pygments_lexer": "ipython3",
   "version": "3.9.7"
  }
 },
 "nbformat": 4,
 "nbformat_minor": 5
}
