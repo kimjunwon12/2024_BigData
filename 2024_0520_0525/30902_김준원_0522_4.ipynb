{
 "cells": [
  {
   "cell_type": "markdown",
   "id": "b6e7733e",
   "metadata": {},
   "source": [
    "# 30902_김준원_0522_4"
   ]
  },
  {
   "cell_type": "markdown",
   "id": "28150094",
   "metadata": {},
   "source": [
    "## 삼각형의 넓이를 구하는 프로그램을 작성한다.\n",
    "\n",
    "## 삼각형의 넓이 = 밑변 * 높이 / 2"
   ]
  },
  {
   "cell_type": "code",
   "execution_count": 1,
   "id": "8dcf9f13",
   "metadata": {},
   "outputs": [
    {
     "name": "stdout",
     "output_type": "stream",
     "text": [
      "5 2\n",
      "5.0\n"
     ]
    }
   ],
   "source": [
    "num1, num2 = map(int, input().split())\n",
    "result = (num1 * num2)/2\n",
    "print('%.1f' % result)"
   ]
  },
  {
   "cell_type": "markdown",
   "id": "7884d317",
   "metadata": {},
   "source": [
    "## 하루는 24시간이다.\n",
    "\n",
    "### (day)이 입력으로 주어지면 시간으로 변환하시오."
   ]
  },
  {
   "cell_type": "code",
   "execution_count": 2,
   "id": "4892ca4b",
   "metadata": {},
   "outputs": [
    {
     "name": "stdout",
     "output_type": "stream",
     "text": [
      "2\n",
      "48\n"
     ]
    }
   ],
   "source": [
    "day = int(input())\n",
    "print(day*24)"
   ]
  },
  {
   "cell_type": "markdown",
   "id": "f83fde2b",
   "metadata": {},
   "source": [
    "## 세 정수가 입력되면 평균을 출력하시오.."
   ]
  },
  {
   "cell_type": "code",
   "execution_count": 3,
   "id": "e496a16e",
   "metadata": {},
   "outputs": [
    {
     "name": "stdout",
     "output_type": "stream",
     "text": [
      "1 2 3\n",
      "2.00\n"
     ]
    }
   ],
   "source": [
    "num1, num2, num3 = map(int, input().split())\n",
    "result = (num1 + num2 + num3)/3\n",
    "print('%.2f' % result)\n"
   ]
  }
 ],
 "metadata": {
  "kernelspec": {
   "display_name": "Python 3 (ipykernel)",
   "language": "python",
   "name": "python3"
  },
  "language_info": {
   "codemirror_mode": {
    "name": "ipython",
    "version": 3
   },
   "file_extension": ".py",
   "mimetype": "text/x-python",
   "name": "python",
   "nbconvert_exporter": "python",
   "pygments_lexer": "ipython3",
   "version": "3.9.7"
  }
 },
 "nbformat": 4,
 "nbformat_minor": 5
}
