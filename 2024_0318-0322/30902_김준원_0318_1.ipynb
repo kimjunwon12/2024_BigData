{
 "cells": [
  {
   "cell_type": "markdown",
   "id": "7fda7852",
   "metadata": {},
   "source": [
    "### 30902_김준원_0318_1"
   ]
  },
  {
   "cell_type": "code",
   "execution_count": 15,
   "id": "9d9c31a4",
   "metadata": {},
   "outputs": [
    {
     "name": "stdout",
     "output_type": "stream",
     "text": [
      "세 정수의 최댓값을 구합니다.\n",
      "정수 a의 값을 입력하세요. : 1\n",
      "정수 b의 값을 입력하세요. : 2\n",
      "정수 c의 값을 입력하세요. : 3\n",
      "최대값은 3입니다,\n"
     ]
    }
   ],
   "source": [
    "print('세 정수의 최댓값을 구합니다.')\n",
    "\n",
    "a = int(input('정수 a의 값을 입력하세요. : '))\n",
    "b = int(input('정수 b의 값을 입력하세요. : '))\n",
    "c = int(input('정수 c의 값을 입력하세요. : '))\n",
    "\n",
    "# 최대값을 구하는 알고리즘\n",
    "max = a\n",
    "if b > max : max = b\n",
    "if c > max : max = c\n",
    "    \n",
    "print(f'최대값은 {max}입니다,')\n",
    "      "
   ]
  },
  {
   "cell_type": "code",
   "execution_count": 26,
   "id": "adb37ff5",
   "metadata": {},
   "outputs": [
    {
     "ename": "SyntaxError",
     "evalue": "invalid syntax (Temp/ipykernel_2288/75003382.py, line 5)",
     "output_type": "error",
     "traceback": [
      "\u001b[1;36m  File \u001b[1;32m\"C:\\Users\\user\\AppData\\Local\\Temp/ipykernel_2288/75003382.py\"\u001b[1;36m, line \u001b[1;32m5\u001b[0m\n\u001b[1;33m    print('이 수는 음수입니다.')1\u001b[0m\n\u001b[1;37m                        ^\u001b[0m\n\u001b[1;31mSyntaxError\u001b[0m\u001b[1;31m:\u001b[0m invalid syntax\n"
     ]
    }
   ],
   "source": [
    "n = int(input('정수를 입력하세요.: '))\n",
    "if n > 0 : \n",
    "    print('이 수는 양수입니다.')\n",
    "elif n > 0 : \n",
    "    print('이 수는 음수입니다.')1\n",
    "else : \n",
    "    print('이 수는 0입니다.')"
   ]
  },
  {
   "cell_type": "code",
   "execution_count": 32,
   "id": "fe450435",
   "metadata": {},
   "outputs": [
    {
     "name": "stdout",
     "output_type": "stream",
     "text": [
      "1부터 n까지 정수의 합을 구합니다.\n",
      "n 값을 입력하세요.: 200\n",
      "1부터 200까지 정수의 합은 20100입니다.\n"
     ]
    }
   ],
   "source": [
    "# while문 이용\n",
    "# 1부터 n까지 정수의 합 구하기\n",
    "\n",
    "print('1부터 n까지 정수의 합을 구합니다.')\n",
    "n = int(input('n 값을 입력하세요.: '))\n",
    "\n",
    "sum = 0 #초기화 \n",
    "i = 1\n",
    "\n",
    "while i <= n :\n",
    "    sum += i #sum = sum + i\n",
    "    i += 1 #i = i + 1\n",
    "    \n",
    "#출력\n",
    "print(f'1부터 {n}까지 정수의 합은 {sum}입니다.')"
   ]
  },
  {
   "cell_type": "code",
   "execution_count": null,
   "id": "6a54803c",
   "metadata": {},
   "outputs": [],
   "source": [
    "\n"
   ]
  }
 ],
 "metadata": {
  "kernelspec": {
   "display_name": "Python 3 (ipykernel)",
   "language": "python",
   "name": "python3"
  },
  "language_info": {
   "codemirror_mode": {
    "name": "ipython",
    "version": 3
   },
   "file_extension": ".py",
   "mimetype": "text/x-python",
   "name": "python",
   "nbconvert_exporter": "python",
   "pygments_lexer": "ipython3",
   "version": "3.9.7"
  }
 },
 "nbformat": 4,
 "nbformat_minor": 5
}
