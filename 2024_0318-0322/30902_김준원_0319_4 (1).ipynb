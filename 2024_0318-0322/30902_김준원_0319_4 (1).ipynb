{
 "cells": [
  {
   "cell_type": "markdown",
   "id": "43ba9b81",
   "metadata": {},
   "source": [
    "## 30902_김준원_0319_4"
   ]
  },
  {
   "cell_type": "code",
   "execution_count": 4,
   "id": "5bcfc678",
   "metadata": {},
   "outputs": [
    {
     "name": "stdout",
     "output_type": "stream",
     "text": [
      "1부터 n까지 정수의 합을 구합니다.\n",
      "n 값을 입력하세요.: 5\n",
      "1부터 5까지 정수의 합은 15입니다.\n"
     ]
    }
   ],
   "source": [
    "# while문 이용\n",
    "# 1부터 n까지 정수의 합 구하기\n",
    "\n",
    "print('1부터 n까지 정수의 합을 구합니다.')\n",
    "n = int(input('n 값을 입력하세요.: '))\n",
    "\n",
    "sum = 0 # 변수를 만들고 초기화 \n",
    "i = 1\n",
    "\n",
    "while i <= n :\n",
    "    sum += i #sum = sum + i\n",
    "    i += 1 #i = i + 1\n",
    "    \n",
    "#출력\n",
    "print(f'1부터 {n}까지 정수의 합은 {sum}입니다.')"
   ]
  },
  {
   "cell_type": "code",
   "execution_count": 10,
   "id": "3ca32f33",
   "metadata": {},
   "outputs": [
    {
     "name": "stdout",
     "output_type": "stream",
     "text": [
      "1부터 n까지 정수의 합을 구합니다.\n",
      "n 값을 입력하세요.: 5\n",
      "1부터 5까지 정수의 합은 15입니다.\n"
     ]
    }
   ],
   "source": [
    "print('1부터 n까지 정수의 합을 구합니다.')\n",
    "n = int(input('n 값을 입력하세요.: '))\n",
    "\n",
    "sum = 0 # 변수를 만들고 초기화 \n",
    "for i in range(1, n+1):\n",
    "    sum += i\n",
    "print(f'1부터 {n}까지 정수의 합은 {sum}입니다.')"
   ]
  },
  {
   "cell_type": "code",
   "execution_count": 22,
   "id": "f655ccf3",
   "metadata": {},
   "outputs": [
    {
     "name": "stdout",
     "output_type": "stream",
     "text": [
      " a부터 b까지 정수의 합을 구합니다.\n",
      "a의 값을 입력하세요. : 3\n",
      "b의 값을 입력하세요. : 8\n",
      "3부터 8까지 정수의 합은 48입니다. \n"
     ]
    }
   ],
   "source": [
    "\n",
    "print(' a부터 b까지 정수의 합을 구합니다.')\n",
    "\n",
    "a = int(input('a의 값을 입력하세요. : '))\n",
    "b = int(input('b의 값을 입력하세요. : '))\n",
    "\n",
    "if a > b :\n",
    "    a, b = b, a #a,b를 오름차순으로 정렬\n",
    "\n",
    "for i in range(a, b+1):\n",
    "    sum += i\n",
    "print(f'{a}부터 {b}까지 정수의 합은 {sum}입니다. ')"
   ]
  },
  {
   "cell_type": "code",
   "execution_count": 30,
   "id": "c16ac54e",
   "metadata": {},
   "outputs": [
    {
     "name": "stdout",
     "output_type": "stream",
     "text": [
      "a부터 b까지 정수의 합을 구합니다\n",
      "a값을 입력하세요.: 1\n",
      "b값을 입력하세요.: 19\n",
      "1 + 2 + 3 + 4 + 5 + 6 + 7 + 8 + 9 + 10 + 11 + 12 + 13 + 14 + 15 + 16 + 17 + 18 + 19 + 190\n"
     ]
    }
   ],
   "source": [
    "# a부터 b까지 정수의 합을 구하는 과정과 최종값을 출력하는 프로그램\n",
    "print('a부터 b까지 정수의 합을 구합니다')\n",
    "a = int(input('a값을 입력하세요.: '))\n",
    "b = int(input('b값을 입력하세요.: '))\n",
    "\n",
    "if a > b :\n",
    "    a, b = b, a\n",
    "    \n",
    "sum = 0\n",
    "for i in range(a, b+1):\n",
    "    if i < b: # i가 b보다 작으면 합을 구하는 과정을 출력\n",
    "        print(f'{i} + ',end='')\n",
    "    else:\n",
    "            print(f'{i} + ',end='')\n",
    "    sum += i\n",
    "    \n",
    "print(sum)"
   ]
  }
 ],
 "metadata": {
  "kernelspec": {
   "display_name": "Python 3 (ipykernel)",
   "language": "python",
   "name": "python3"
  },
  "language_info": {
   "codemirror_mode": {
    "name": "ipython",
    "version": 3
   },
   "file_extension": ".py",
   "mimetype": "text/x-python",
   "name": "python",
   "nbconvert_exporter": "python",
   "pygments_lexer": "ipython3",
   "version": "3.9.7"
  }
 },
 "nbformat": 4,
 "nbformat_minor": 5
}
