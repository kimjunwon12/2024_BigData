{
 "cells": [
  {
   "cell_type": "markdown",
   "id": "2a466882",
   "metadata": {},
   "source": [
    "## 30902_김준원_0321_7"
   ]
  },
  {
   "cell_type": "code",
   "execution_count": 3,
   "id": "277eb307",
   "metadata": {},
   "outputs": [
    {
     "name": "stdout",
     "output_type": "stream",
     "text": [
      "+와 -를 번갈아 출력합니다..\n",
      "몇 개를 출력할까요?: 12\n",
      "+-+-+-+-+-+-\n"
     ]
    }
   ],
   "source": [
    "print('+와 -를 번갈아 출력합니다..')\n",
    "n = int(input('몇 개를 출력할까요?: '))\n",
    "\n",
    "for i in range(n):\n",
    "    if i % 2:\n",
    "        print('-',end=\"\")\n",
    "    else:\n",
    "        print('+',end=\"\")\n",
    "print()"
   ]
  },
  {
   "cell_type": "code",
   "execution_count": 11,
   "id": "469eff9a",
   "metadata": {},
   "outputs": [
    {
     "name": "stdout",
     "output_type": "stream",
     "text": [
      "+와 -를 번갈아 출력합니다..\n",
      "몇 개를 출력할까요?: 20\n",
      "+-+-+-+-+-+-+-+-+-+-\n"
     ]
    }
   ],
   "source": [
    "## range(처음값, 마지값)\n",
    "print('+와 -를 번갈아 출력합니다..')\n",
    "n = int(input('몇 개를 출력할까요?: '))\n",
    "\n",
    "for i in range(1,n+1):\n",
    "    if i % 2:\n",
    "        print('+',end=\"\")\n",
    "    else:\n",
    "        print('-',end=\"\")\n",
    "print()"
   ]
  },
  {
   "cell_type": "code",
   "execution_count": 16,
   "id": "ffadc9c4",
   "metadata": {},
   "outputs": [
    {
     "name": "stdout",
     "output_type": "stream",
     "text": [
      "+와 -를 번갈아 출력합니다..\n",
      "몇 개를 출력할까요?: 19\n",
      "+-+-+-+-+-+-+-+-+-+\n"
     ]
    }
   ],
   "source": [
    "print('+와 -를 번갈아 출력합니다..')\n",
    "n = int(input('몇 개를 출력할까요?: '))\n",
    "\n",
    "for _ in range(n // 2):\n",
    "    print('+-',end=\"\") # n // 2개의 +-를 출력\n",
    "if n % 2:\n",
    "    print('+',end=\"\") # n이 홀 수 일때만 +출력 \n",
    "    \n",
    "print()"
   ]
  },
  {
   "cell_type": "code",
   "execution_count": null,
   "id": "96bb553b",
   "metadata": {},
   "outputs": [],
   "source": []
  },
  {
   "cell_type": "code",
   "execution_count": 32,
   "id": "62df54f3",
   "metadata": {},
   "outputs": [
    {
     "name": "stdout",
     "output_type": "stream",
     "text": [
      "*를 출력합니다\n",
      "몇 개를 출력할까요?: 7\n",
      "몇 개마다 줄바꿈할까요?: 1\n",
      "*\n",
      "*\n",
      "*\n",
      "*\n",
      "*\n",
      "*\n",
      "*\n"
     ]
    }
   ],
   "source": [
    "# *를 n개 출력하되 w개마다 줄바꿈하기\n",
    "print(\"*를 출력합니다\")\n",
    "n = int(input(\"몇 개를 출력할까요?: \"))\n",
    "w = int(input(\"몇 개마다 줄바꿈할까요?: \"))\n",
    "\n",
    "for i in range(n):\n",
    "    print('*',end='')\n",
    "    if i % w == w - 1: #n번 판단\n",
    "        print() #줄바꿈"
   ]
  },
  {
   "cell_type": "code",
   "execution_count": 41,
   "id": "b97e2a62",
   "metadata": {},
   "outputs": [
    {
     "name": "stdout",
     "output_type": "stream",
     "text": [
      "1부터 n까지 정수의 합을 구합니다.\n",
      "n값을 입력하세요.: -6\n",
      "n값을 입력하세요.: 0\n",
      "n값을 입력하세요.: 10\n",
      "55\n",
      "1부터10까지 정수의 합은 55입니다.\n"
     ]
    }
   ],
   "source": [
    "print(\"1부터 n까지 정수의 합을 구합니다.\")\n",
    "n = int(input(\"n값을 입력하세요.: \"))\n",
    "while n<=0:\n",
    "    n = int(input(\"n값을 입력하세요.: \"))\n",
    "    \n",
    "sum=0\n",
    "for i in range(1,n+1):\n",
    "    sum+=i\n",
    "print(sum)\n",
    "print(f'1부터{n}까지 정수의 합은 {sum}입니다.')"
   ]
  },
  {
   "cell_type": "code",
   "execution_count": null,
   "id": "af47cc3d",
   "metadata": {},
   "outputs": [],
   "source": []
  }
 ],
 "metadata": {
  "kernelspec": {
   "display_name": "Python 3 (ipykernel)",
   "language": "python",
   "name": "python3"
  },
  "language_info": {
   "codemirror_mode": {
    "name": "ipython",
    "version": 3
   },
   "file_extension": ".py",
   "mimetype": "text/x-python",
   "name": "python",
   "nbconvert_exporter": "python",
   "pygments_lexer": "ipython3",
   "version": "3.9.7"
  }
 },
 "nbformat": 4,
 "nbformat_minor": 5
}
