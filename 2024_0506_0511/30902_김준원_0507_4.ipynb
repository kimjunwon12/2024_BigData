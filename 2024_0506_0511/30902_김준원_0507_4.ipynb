{
 "cells": [
  {
   "cell_type": "markdown",
   "id": "74f3b65b",
   "metadata": {},
   "source": [
    "# 30902_김준원_0507_4"
   ]
  },
  {
   "cell_type": "markdown",
   "id": "f750dc81",
   "metadata": {},
   "source": [
    "문제 6\n",
    "영어단어장 만들기 프로그램"
   ]
  },
  {
   "cell_type": "code",
   "execution_count": 15,
   "id": "458804e1",
   "metadata": {},
   "outputs": [
    {
     "name": "stdout",
     "output_type": "stream",
     "text": [
      "영어단어,뜻:banana,바나나\n",
      "영어단어,뜻:apple,사과\n",
      "영어단어,뜻:\n"
     ]
    },
    {
     "data": {
      "text/plain": [
       "{'banana': '바나나', 'apple': '사과'}"
      ]
     },
     "execution_count": 15,
     "metadata": {},
     "output_type": "execute_result"
    }
   ],
   "source": [
    "# 빈 딕셔너리 만들기\n",
    "dict_word={}\n",
    "\n",
    "# 공백을 입력할때까지 입력 키값과 벨류값 받기\n",
    "while True:\n",
    "    input_word = input('영어단어,뜻:')\n",
    "    if input_word=='':\n",
    "        break\n",
    "    # 키값과 벨류값 분리하기\n",
    "    eng = input_word.split(',')[0]\n",
    "    kor = input_word.split(',')[1]\n",
    "    \n",
    "    # 키값과 벨류값 저장하기\n",
    "    dict_word[eng] = kor\n",
    "    \n",
    "#출력하기\n",
    "dict_word"
   ]
  },
  {
   "cell_type": "markdown",
   "id": "6117d68d",
   "metadata": {},
   "source": [
    "문제 7\n",
    "할인된 금액 계산 프로그램"
   ]
  },
  {
   "cell_type": "code",
   "execution_count": 7,
   "id": "afc4691e",
   "metadata": {
    "scrolled": true
   },
   "outputs": [
    {
     "name": "stdout",
     "output_type": "stream",
     "text": [
      "물건구매가200000\n",
      "\n",
      "구매가 : 200000\n",
      "할인율 : 10%\n",
      "할인금액 : 20000.0\n",
      "지불금액 : 180000.0\n",
      "\n"
     ]
    }
   ],
   "source": [
    "price = int(input('물건구매가'))\n",
    "\n",
    "# 할인율 결정\n",
    "if price >= 100000:\n",
    "    dc = 10\n",
    "elif price >= 50000:\n",
    "    dc = 7\n",
    "elif price >= 10000:\n",
    "    dc = 5\n",
    "else :\n",
    "    dc = 0\n",
    "    \n",
    "# 출력\n",
    "print(f'''\n",
    "구매가 : {price}\n",
    "할인율 : {dc}%\n",
    "할인금액 : {price*(dc/100)}\n",
    "지불금액 : {price - price*(dc/100)}\n",
    "''')\n",
    "    "
   ]
  },
  {
   "cell_type": "markdown",
   "id": "b32a379a",
   "metadata": {},
   "source": [
    "문제 8\n",
    "사칙연산 프로그램\n",
    "\n",
    "두 수와 사칙연산기호(+,-,*,/)을 입력받아 연산 기호에 따라 연산 결과를 출력하는 프로그램을 작성하세요.\n",
    "\n",
    "사칙연산기호(+,-,*,/)가 아닌 경우 '잘못입력하셨습니다' 출력"
   ]
  },
  {
   "cell_type": "code",
   "execution_count": 10,
   "id": "66021254",
   "metadata": {},
   "outputs": [
    {
     "name": "stdout",
     "output_type": "stream",
     "text": [
      "숫자1 : 10\n",
      "숫자2 : 10\n",
      "연산기호 : 1010\n",
      "잘못 입력하셨습니다.\n"
     ]
    }
   ],
   "source": [
    "num1 = int(input('숫자1 : '))\n",
    "num2 = int(input('숫자2 : '))\n",
    "op = input('연산기호 : ')\n",
    "\n",
    "if op == '+':\n",
    "    print(f'덧셈 : {num1} + {num2} = {num1+num2}')\n",
    "elif op == '-':\n",
    "    print(f'뺄셈 : {num1} - {num2} = {num1-num2}')\n",
    "elif op == '*':\n",
    "    print(f'곱셈 : {num1} * {num2} = {num1*num2}')    \n",
    "elif op == '/':\n",
    "    print(f'나눗셈 : {num1} / {num2} = {num1/num2}')\n",
    "else:\n",
    "    print(f'잘못 입력하셨습니다.')"
   ]
  },
  {
   "cell_type": "markdown",
   "id": "5696e6b9",
   "metadata": {},
   "source": [
    "문제 9\n",
    "up&down 숫자 맞추기 게임 프로그램\n",
    "\n",
    "1~100 사이의 정답 숫자를 랜덩므로 하나 정하고, 정답 숫자를 맞출 때까지\n",
    "숫자를 입력하는 게임이다\n",
    "\n",
    "내가 입력한 숫자가 정답보다 작으면 'DOWN',정답보다 크면 'UP'을 출력하고 숫자를 다시 입력받는다.\n",
    "\n",
    "정답을 맞추면 '정답!'이라고 출력하고 게임을 끝낸다.\n",
    "기회는 5번까지만 주어집니다.\n",
    "5회가 넘으면 '횟수초과' 메시지와 함께 정답을 알려줍니다.\n",
    "정답을 맞추면 몇번째에 맞추었는지 출력합니다.\n",
    "\n",
    "// 랜덤함수이용\n",
    "// 함수 만들어 봅니다."
   ]
  },
  {
   "cell_type": "code",
   "execution_count": 8,
   "id": "e9b91584",
   "metadata": {},
   "outputs": [
    {
     "name": "stdout",
     "output_type": "stream",
     "text": [
      "Attempt 1, 예상 숫자를 입력하세요(1-100): 50\n",
      "Up\n",
      "Attempt 2, 예상 숫자를 입력하세요(1-100): 40\n",
      "Up\n",
      "Attempt 3, 예상 숫자를 입력하세요(1-100): 60\n",
      "Up\n",
      "Attempt 4, 예상 숫자를 입력하세요(1-100): 70\n",
      "Up\n",
      "Attempt 5, 예상 숫자를 입력하세요(1-100): 80\n",
      "Down\n",
      "횟수 초과입니다. 정답을 72였습니다.\n"
     ]
    }
   ],
   "source": [
    "import random\n",
    "def guess_number_game(max_attempts=5):\n",
    "    cnt = 0\n",
    "    num = random.randint(1, 100)\n",
    "    \n",
    "    while cnt < max_attempts:\n",
    "        cnt += 1\n",
    "        answer = int(input(f'Attempt {cnt}, 예상 숫자를 입력하세요(1-100): '))\n",
    "        if answer == num:\n",
    "            print(f'정답 입니다!')\n",
    "            print(f'{cnt}번 만에 맞추었습니다.')\n",
    "            return\n",
    "        if answer < num:\n",
    "            print('Up')\n",
    "        else:\n",
    "            print('Down')\n",
    "    print(f'횟수 초과입니다. 정답을 {num}였습니다.')\n",
    "# 시작\n",
    "guess_number_game()"
   ]
  },
  {
   "cell_type": "code",
   "execution_count": null,
   "id": "6c91c550",
   "metadata": {},
   "outputs": [],
   "source": []
  }
 ],
 "metadata": {
  "kernelspec": {
   "display_name": "Python 3 (ipykernel)",
   "language": "python",
   "name": "python3"
  },
  "language_info": {
   "codemirror_mode": {
    "name": "ipython",
    "version": 3
   },
   "file_extension": ".py",
   "mimetype": "text/x-python",
   "name": "python",
   "nbconvert_exporter": "python",
   "pygments_lexer": "ipython3",
   "version": "3.9.7"
  }
 },
 "nbformat": 4,
 "nbformat_minor": 5
}
