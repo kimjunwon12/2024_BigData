{
 "cells": [
  {
   "cell_type": "markdown",
   "id": "7ea4f5b3",
   "metadata": {},
   "source": [
    "# 30902_김준원_0509_2"
   ]
  },
  {
   "cell_type": "code",
   "execution_count": 13,
   "id": "34022698",
   "metadata": {},
   "outputs": [
    {
     "name": "stdout",
     "output_type": "stream",
     "text": [
      "영어단어,뜻 : banana,바나나\n",
      "영어단어,뜻 : apple.사과\n"
     ]
    },
    {
     "ename": "IndexError",
     "evalue": "list index out of range",
     "output_type": "error",
     "traceback": [
      "\u001b[1;31m---------------------------------------------------------------------------\u001b[0m",
      "\u001b[1;31mIndexError\u001b[0m                                Traceback (most recent call last)",
      "\u001b[1;32m~\\AppData\\Local\\Temp/ipykernel_11608/4061962010.py\u001b[0m in \u001b[0;36m<module>\u001b[1;34m\u001b[0m\n\u001b[0;32m      5\u001b[0m         \u001b[1;32mbreak\u001b[0m\u001b[1;33m\u001b[0m\u001b[1;33m\u001b[0m\u001b[0m\n\u001b[0;32m      6\u001b[0m     \u001b[0meng\u001b[0m \u001b[1;33m=\u001b[0m \u001b[0minput_word\u001b[0m\u001b[1;33m.\u001b[0m\u001b[0msplit\u001b[0m\u001b[1;33m(\u001b[0m\u001b[1;34m','\u001b[0m\u001b[1;33m)\u001b[0m\u001b[1;33m[\u001b[0m\u001b[1;36m0\u001b[0m\u001b[1;33m]\u001b[0m\u001b[1;33m\u001b[0m\u001b[1;33m\u001b[0m\u001b[0m\n\u001b[1;32m----> 7\u001b[1;33m     \u001b[0mkor\u001b[0m \u001b[1;33m=\u001b[0m \u001b[0minput_word\u001b[0m\u001b[1;33m.\u001b[0m\u001b[0msplit\u001b[0m\u001b[1;33m(\u001b[0m\u001b[1;34m','\u001b[0m\u001b[1;33m)\u001b[0m\u001b[1;33m[\u001b[0m\u001b[1;36m1\u001b[0m\u001b[1;33m]\u001b[0m\u001b[1;33m\u001b[0m\u001b[1;33m\u001b[0m\u001b[0m\n\u001b[0m\u001b[0;32m      8\u001b[0m \u001b[1;33m\u001b[0m\u001b[0m\n\u001b[0;32m      9\u001b[0m     \u001b[0mdict_word\u001b[0m\u001b[1;33m[\u001b[0m\u001b[0meng\u001b[0m\u001b[1;33m]\u001b[0m \u001b[1;33m=\u001b[0m \u001b[0mkor\u001b[0m\u001b[1;33m\u001b[0m\u001b[1;33m\u001b[0m\u001b[0m\n",
      "\u001b[1;31mIndexError\u001b[0m: list index out of range"
     ]
    }
   ],
   "source": [
    "dict_word = {}\n",
    "while True:\n",
    "    input_word = input('영어단어,뜻 : ')\n",
    "    if input_word=='':\n",
    "        break\n",
    "    eng = input_word.split(',')[0]\n",
    "    kor = input_word.split(',')[1]\n",
    "    \n",
    "    dict_word[eng] = kor\n",
    "    \n",
    "dict_word\n",
    "------------------------------------------------\n",
    "dict_word = {}\n",
    "while True :\n",
    "    input_word = input(\"영어단어,뜻 : \")\n",
    "    if input_word =='':\n",
    "        break\n",
    "    eng = input_word.split(',')[0]\n",
    "    kor = input_word.split(',')[1]\n",
    "    \n",
    "    dict_word[eng] = kor\n",
    "dict_word"
   ]
  },
  {
   "cell_type": "code",
   "execution_count": 5,
   "id": "14360617",
   "metadata": {},
   "outputs": [
    {
     "name": "stdout",
     "output_type": "stream",
     "text": [
      "물건구매가 : 200000\n",
      "\n",
      "구매가 : 200000\n",
      "할인율 : 10%\n",
      "할인금액 : 20000.0\n",
      "지불금액 : 180000.0\n",
      "\n"
     ]
    }
   ],
   "source": [
    "price = int(input('물건구매가 : '))\n",
    "\n",
    "if price >= 100000:\n",
    "    dc = 10\n",
    "elif price >= 50000:\n",
    "    dc = 7\n",
    "elif price >= 10000:\n",
    "    dc = 5\n",
    "else :\n",
    "    dc = 0\n",
    "#출력\n",
    "print(f'''\n",
    "구매가 : {price}\n",
    "할인율 : {dc}%\n",
    "할인금액 : {price*(dc/100)}\n",
    "지불금액 : {price - price*(dc/100)}\n",
    "''')\n",
    "------------------------------------------------\n",
    "price = int(input('물건구매가 : '))\n",
    "\n",
    "if price >= 100000:\n",
    "    dc = 10\n",
    "elif price >= 50000:\n",
    "    dc = 7\n",
    "elif price >= 10000:\n",
    "    dc = 5\n",
    "else :\n",
    "    dc = 0\n",
    "#출력\n",
    "print(f'''\n",
    "구매가 : {price}\n",
    "할인율 : {dc}%\n",
    "할인금액 : {price*(dc/100)}\n",
    "지불금액 : {price - price*(dc/100)}\n",
    "''')"
   ]
  },
  {
   "cell_type": "code",
   "execution_count": 8,
   "id": "2f0bd7c7",
   "metadata": {},
   "outputs": [
    {
     "name": "stdout",
     "output_type": "stream",
     "text": [
      "숫자1 : 10100\n",
      "숫자2 : 1001\n",
      "연산기호 : 01\n",
      "잘못 입력하셨습니다.\n"
     ]
    }
   ],
   "source": [
    "num1 = int(input('숫자1 : '))\n",
    "num2 = int(input('숫자2 : '))\n",
    "op = input('연산기호 : ')\n",
    "\n",
    "if op == '+':\n",
    "    print(f'덧셈 : {num1} + {num2} = {num1+num2}')\n",
    "elif op == '-':\n",
    "    print(f'뺄셈 : {num1} - {num2} = {num1-num2}')\n",
    "elif op == '*':\n",
    "    print(f'곱셈 : {num1} * {num2} = {num1*num2}')\n",
    "elif op == '/':\n",
    "    print(f'나눗셈 : {num1} / {num2} = {num1/num2}')\n",
    "else:\n",
    "    print(f'잘못 입력하셨습니다.')\n",
    "    \n",
    "------------------------------------------------    \n",
    "num1 = int(input('숫자1 : '))\n",
    "num2 = int(input('숫자2 : '))\n",
    "op = input('연산기호 : ')\n",
    "\n",
    "if op == '+':\n",
    "    print(f'덧셈 : {num1} + {num2} = {num1+num2}')\n",
    "elif op == '-':\n",
    "    print(f'뺄셈 : {num1} - {num2} = {num1-num2}')\n",
    "elif op == '*':\n",
    "    print(f'곱셈 : {num1} * {num2} = {num1*num2}')\n",
    "elif op == '/':\n",
    "    print(f'나눗셈 : {num1} / {num2} = {num1/num2}')\n",
    "else:\n",
    "    print(f'잘못 입력하셨습니다.')"
   ]
  },
  {
   "cell_type": "code",
   "execution_count": 10,
   "id": "a39bd294",
   "metadata": {},
   "outputs": [
    {
     "name": "stdout",
     "output_type": "stream",
     "text": [
      "Attempt 1. 에상 숫자를 입력하세요(1-100:10\n",
      "Down\n",
      "Attempt 2. 에상 숫자를 입력하세요(1-100:9\n",
      "Down\n",
      "Attempt 3. 에상 숫자를 입력하세요(1-100:6\n",
      "Up\n",
      "Attempt 4. 에상 숫자를 입력하세요(1-100:7\n",
      "Up\n",
      "Attempt 5. 에상 숫자를 입력하세요(1-100:8\n",
      "정답 입니다!\n",
      "5번 만에 맞추었습니다.\n"
     ]
    }
   ],
   "source": [
    "import random\n",
    "def guess_number_game(max_attempts=5):\n",
    "    cnt = 0\n",
    "    num = random.randint(1,100)\n",
    "    \n",
    "    while cnt < max_attempts:\n",
    "        cnt += 1\n",
    "        answer = int(input(f'Attempt {cnt}. 에상 숫자를 입력하세요(1-100:'))\n",
    "        if answer == num:\n",
    "            print(f'정답 입니다!')\n",
    "            print(f'{cnt}번 만에 맞추었습니다.')\n",
    "            return\n",
    "        if answer < num:\n",
    "            print('Up')\n",
    "        else:\n",
    "            print('Down')\n",
    "    print(f'횟수 초과입니다. 정답은 {num}였습니다.')\n",
    "guess_number_game()\n",
    "\n",
    "------------------------------------------------\n",
    "import random\n",
    "def guess_number_game(max_attempts=5):\n",
    "    cnt = 0\n",
    "    num = random.randint(1,100)\n",
    "    \n",
    "    while cnt < max_attempts:\n",
    "        cnt += 1\n",
    "        answer = int(input(f'Attempt {cnt}. 에상 숫자를 입력하세요(1-100:'))\n",
    "        if answer == num:\n",
    "            print(f'정답 입니다!')\n",
    "            print(f'{cnt}번 만에 맞추었습니다.')\n",
    "            return\n",
    "        if answer < num:\n",
    "            print('Up')\n",
    "        else:\n",
    "            print('Down')\n",
    "    print(f'횟수 초과입니다. 정답은 {num}였습니다.')\n",
    "guess_number_game()"
   ]
  },
  {
   "cell_type": "code",
   "execution_count": 9,
   "id": "8d2449c5",
   "metadata": {},
   "outputs": [
    {
     "name": "stdout",
     "output_type": "stream",
     "text": [
      "id : id123\n",
      "pwd : pwd123\n"
     ]
    }
   ],
   "source": [
    "id = 'id123'\n",
    "pwd = 'pwd123'\n",
    "\n",
    "while True:\n",
    "    input_id = input('id : ')\n",
    "    input_pwd = input('pwd : ')\n",
    "    \n",
    "    if id == input_id and pwd == input_pwd:\n",
    "        break\n",
    "    if id != input_id :\n",
    "        print(f'아이디를 확인하세요')\n",
    "    if pwd != input_pwd :\n",
    "        print(f'비밀번호를 확인하세요')\n",
    "        \n",
    "------------------------------------------------\n",
    "id = 'id123'\n",
    "pwd = 'pwd123'\n",
    "\n",
    "while True:\n",
    "    input_id = input('id : ')\n",
    "    input_pwd = input('pwd : ')\n",
    "    \n",
    "    if id == input_id and pwd == input_pwd:\n",
    "        break\n",
    "    if id != input_id :\n",
    "        print(f'아이디를 확인하세요')\n",
    "    if pwd != input_pwd :\n",
    "        print(f'비밀번호를 확인하세요')"
   ]
  }
 ],
 "metadata": {
  "kernelspec": {
   "display_name": "Python 3 (ipykernel)",
   "language": "python",
   "name": "python3"
  },
  "language_info": {
   "codemirror_mode": {
    "name": "ipython",
    "version": 3
   },
   "file_extension": ".py",
   "mimetype": "text/x-python",
   "name": "python",
   "nbconvert_exporter": "python",
   "pygments_lexer": "ipython3",
   "version": "3.9.7"
  }
 },
 "nbformat": 4,
 "nbformat_minor": 5
}
