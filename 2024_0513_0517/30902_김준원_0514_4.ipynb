{
 "cells": [
  {
   "cell_type": "markdown",
   "id": "61c97c5a",
   "metadata": {},
   "source": [
    "# 30902_김준원_0514_4"
   ]
  },
  {
   "cell_type": "markdown",
   "id": "61ddf155",
   "metadata": {},
   "source": [
    "printf()함수를 공부하는 진영이는 다음 폴더명을 출력해보기로 했다.\n",
    "\n",
    "\"c:\\test\"\n",
    "printf함수에는 특별한 제어문자가 몇개 있다.\n",
    "\n",
    "큰따옴표(\")를 출력하기 위해선 \\\" 를 사용해야 하고,\n",
    "\n",
    "\\를 출력하기 위해선 \\\\ 를 사용해야 한다.\n",
    "\n",
    "---- 웹상의 소스를 복사해서 붙이는 경우 에러가 날 수 있습니다."
   ]
  },
  {
   "cell_type": "code",
   "execution_count": 24,
   "id": "7a5221cd",
   "metadata": {},
   "outputs": [
    {
     "name": "stdout",
     "output_type": "stream",
     "text": [
      "\"c:\\test\"\n"
     ]
    }
   ],
   "source": [
    "print('\"c:\\\\test\"')"
   ]
  },
  {
   "cell_type": "code",
   "execution_count": null,
   "id": "678cc408",
   "metadata": {},
   "outputs": [],
   "source": []
  }
 ],
 "metadata": {
  "kernelspec": {
   "display_name": "Python 3 (ipykernel)",
   "language": "python",
   "name": "python3"
  },
  "language_info": {
   "codemirror_mode": {
    "name": "ipython",
    "version": 3
   },
   "file_extension": ".py",
   "mimetype": "text/x-python",
   "name": "python",
   "nbconvert_exporter": "python",
   "pygments_lexer": "ipython3",
   "version": "3.9.7"
  }
 },
 "nbformat": 4,
 "nbformat_minor": 5
}
