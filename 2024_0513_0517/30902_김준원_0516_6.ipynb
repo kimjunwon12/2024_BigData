{
 "cells": [
  {
   "cell_type": "markdown",
   "id": "4f28d43d",
   "metadata": {},
   "source": [
    "# 30902_김준원_0516_6"
   ]
  },
  {
   "cell_type": "markdown",
   "id": "8e904375",
   "metadata": {},
   "source": [
    "## 입력받은 정수를 그대로 출력한다.\n",
    "\n",
    "# (scanf앞에 불필요한 안내 문구를 출력하지 않도록 합니다.)"
   ]
  },
  {
   "cell_type": "code",
   "execution_count": 11,
   "id": "1e627190",
   "metadata": {},
   "outputs": [
    {
     "name": "stdout",
     "output_type": "stream",
     "text": [
      "5\n",
      "5\n"
     ]
    }
   ],
   "source": [
    "a=int(input())\n",
    "print(a)"
   ]
  },
  {
   "cell_type": "markdown",
   "id": "c18defd9",
   "metadata": {},
   "source": [
    "# 어떤 정수가 입력되면 %를 붙여 출력하시오."
   ]
  },
  {
   "cell_type": "code",
   "execution_count": 15,
   "id": "a0b52c01",
   "metadata": {},
   "outputs": [
    {
     "name": "stdout",
     "output_type": "stream",
     "text": [
      "35\n",
      "35%\n"
     ]
    }
   ],
   "source": [
    "a=int(input())\n",
    "print(f'{a}%')"
   ]
  },
  {
   "cell_type": "markdown",
   "id": "b2f7b575",
   "metadata": {},
   "source": [
    "# 입력 받은 두 정수를 출력한다."
   ]
  },
  {
   "cell_type": "code",
   "execution_count": 21,
   "id": "9e30c22c",
   "metadata": {},
   "outputs": [
    {
     "name": "stdout",
     "output_type": "stream",
     "text": [
      "5 7\n",
      "5 7\n"
     ]
    }
   ],
   "source": [
    "a, b = map(int,input().split())\n",
    "print(a, b)"
   ]
  },
  {
   "cell_type": "markdown",
   "id": "c446cb96",
   "metadata": {},
   "source": [
    "# 두 정수를 입력받아 순서를 바꿔서 출력하시오."
   ]
  },
  {
   "cell_type": "code",
   "execution_count": 26,
   "id": "757cbf6c",
   "metadata": {},
   "outputs": [
    {
     "name": "stdout",
     "output_type": "stream",
     "text": [
      "1 2\n",
      "2 1\n"
     ]
    }
   ],
   "source": [
    "a, b = map(int,input().split())\n",
    "print(b , a)"
   ]
  },
  {
   "cell_type": "markdown",
   "id": "5e9a69a7",
   "metadata": {},
   "source": [
    "# 두 정수를 입력받아 합을 출력한다."
   ]
  },
  {
   "cell_type": "code",
   "execution_count": 27,
   "id": "18457a55",
   "metadata": {},
   "outputs": [
    {
     "name": "stdout",
     "output_type": "stream",
     "text": [
      "5 7\n",
      "12\n"
     ]
    }
   ],
   "source": [
    "a, b = map(int,input().split())\n",
    "print(b+a)"
   ]
  }
 ],
 "metadata": {
  "kernelspec": {
   "display_name": "Python 3 (ipykernel)",
   "language": "python",
   "name": "python3"
  },
  "language_info": {
   "codemirror_mode": {
    "name": "ipython",
    "version": 3
   },
   "file_extension": ".py",
   "mimetype": "text/x-python",
   "name": "python",
   "nbconvert_exporter": "python",
   "pygments_lexer": "ipython3",
   "version": "3.9.7"
  }
 },
 "nbformat": 4,
 "nbformat_minor": 5
}
