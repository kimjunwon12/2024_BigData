{
 "cells": [
  {
   "cell_type": "markdown",
   "id": "502e9977",
   "metadata": {},
   "source": [
    "# 30902_김준원_0516_7"
   ]
  },
  {
   "cell_type": "markdown",
   "id": "8b2cfc9a",
   "metadata": {},
   "source": [
    "## 이차원 리스트"
   ]
  },
  {
   "cell_type": "code",
   "execution_count": 4,
   "id": "26187134",
   "metadata": {},
   "outputs": [
    {
     "name": "stdout",
     "output_type": "stream",
     "text": [
      "[[1, 2, 3], [4, 5, 6], [7, 8, 9]]\n"
     ]
    }
   ],
   "source": [
    "abc = [[1,2,3],[4,5,6],[7,8,9]]\n",
    "print(abc)"
   ]
  },
  {
   "cell_type": "code",
   "execution_count": 6,
   "id": "fc140930",
   "metadata": {},
   "outputs": [
    {
     "name": "stdout",
     "output_type": "stream",
     "text": [
      "[1, 2, 3]\n",
      "[4, 5, 6]\n",
      "[7, 8, 9]\n"
     ]
    }
   ],
   "source": [
    "for row in abc:\n",
    "    print(row)"
   ]
  },
  {
   "cell_type": "code",
   "execution_count": 8,
   "id": "938393a1",
   "metadata": {},
   "outputs": [
    {
     "name": "stdout",
     "output_type": "stream",
     "text": [
      "1\n"
     ]
    }
   ],
   "source": [
    "print(abc[0][0])"
   ]
  },
  {
   "cell_type": "code",
   "execution_count": 11,
   "id": "9a358d13",
   "metadata": {},
   "outputs": [
    {
     "name": "stdout",
     "output_type": "stream",
     "text": [
      "6\n"
     ]
    }
   ],
   "source": [
    "print(abc[1][2])"
   ]
  },
  {
   "cell_type": "code",
   "execution_count": 13,
   "id": "e4693b7c",
   "metadata": {},
   "outputs": [
    {
     "name": "stdout",
     "output_type": "stream",
     "text": [
      "1\n",
      "4\n",
      "7\n"
     ]
    }
   ],
   "source": [
    "for row in abc:\n",
    "    print(row[0])"
   ]
  },
  {
   "cell_type": "code",
   "execution_count": 15,
   "id": "f3ac9d05",
   "metadata": {},
   "outputs": [
    {
     "name": "stdout",
     "output_type": "stream",
     "text": [
      "3\n",
      "6\n",
      "9\n"
     ]
    }
   ],
   "source": [
    "for row in abc:\n",
    "    print(row[2])"
   ]
  },
  {
   "cell_type": "markdown",
   "id": "426541e0",
   "metadata": {},
   "source": [
    "#### 이차원 리스트로 간단한 프로그램 만들기"
   ]
  },
  {
   "cell_type": "code",
   "execution_count": 26,
   "id": "8b446a4b",
   "metadata": {},
   "outputs": [
    {
     "name": "stdout",
     "output_type": "stream",
     "text": [
      "['2020.03.04 18:56', '주식회사 카카오페이', 1000]\n",
      "['2020.03.01 15:49', '11번가', 27500]\n"
     ]
    }
   ],
   "source": [
    "card = [['2020.03.04 18:56','주식회사 카카오페이',1000],\n",
    "       ['2020.03.03 14:54','네이버페이',51100],\n",
    "       ['2020.03.02 12:13','스타벅스코리아',10000],\n",
    "       ['2020.03.01 15:49','11번가',27500],\n",
    "       ['2020.02.26 11:40','주식회사 카카오페이',32500],\n",
    "       ['2020.02.26 11:38','주식회사 카카오페이',32500],\n",
    "       ['2020.02.22 15:00','G마켓',81500],\n",
    "       ['2020.02.22 15:15','네이버페이',131000]]\n",
    "print(card[0])\n",
    "print(card[3])"
   ]
  },
  {
   "cell_type": "code",
   "execution_count": 28,
   "id": "860cef15",
   "metadata": {},
   "outputs": [
    {
     "name": "stdout",
     "output_type": "stream",
     "text": [
      "주식회사 카카오페이\n",
      "11번가\n"
     ]
    }
   ],
   "source": [
    "print(card[0][1])\n",
    "print(card[3][1])"
   ]
  },
  {
   "cell_type": "code",
   "execution_count": 50,
   "id": "eec7d6a5",
   "metadata": {},
   "outputs": [
    {
     "name": "stdout",
     "output_type": "stream",
     "text": [
      "미국 금메달 개수: 46\n",
      "독일 금메달 개수: 17\n"
     ]
    }
   ],
   "source": [
    "olympic=[[1,'미국',46,37,38,121],\n",
    "        [2,'영국',27,23,17,67],\n",
    "        [3,'중국',26,18,26,70],\n",
    "        [4,'러시아',19,18,19,56],\n",
    "        [5,'독일',17,18,15,42],\n",
    "        [6,'일본',12,8,21,41],\n",
    "        [7,'프랑스',10,18,14,42],\n",
    "        [8,'대한민국',9,3,9,21]]\n",
    "print(olympic[0][1],'금메달 개수:',olympic[0][2])\n",
    "print(olympic[4][1],'금메달 개수:',olympic[4][2])"
   ]
  },
  {
   "cell_type": "code",
   "execution_count": 51,
   "id": "b0120d94",
   "metadata": {},
   "outputs": [
    {
     "name": "stdout",
     "output_type": "stream",
     "text": [
      "[1, '미국']\n",
      "[2, '영국']\n",
      "[3, '중국']\n",
      "[4, '러시아']\n",
      "[5, '독일']\n",
      "[6, '일본']\n",
      "[7, '프랑스']\n",
      "[8, '대한민국']\n"
     ]
    }
   ],
   "source": [
    "for row in olympic:\n",
    "    print(row[:2])"
   ]
  },
  {
   "cell_type": "code",
   "execution_count": 52,
   "id": "ecc9f69f",
   "metadata": {},
   "outputs": [
    {
     "name": "stdout",
     "output_type": "stream",
     "text": [
      "금메달보다 은메달이 더 많은 나라\n",
      "독일\n",
      "프랑스\n"
     ]
    }
   ],
   "source": [
    "print('금메달보다 은메달이 더 많은 나라')\n",
    "for row in olympic:\n",
    "    if row[2]<row[3]:\n",
    "        print(row[1])"
   ]
  }
 ],
 "metadata": {
  "kernelspec": {
   "display_name": "Python 3 (ipykernel)",
   "language": "python",
   "name": "python3"
  },
  "language_info": {
   "codemirror_mode": {
    "name": "ipython",
    "version": 3
   },
   "file_extension": ".py",
   "mimetype": "text/x-python",
   "name": "python",
   "nbconvert_exporter": "python",
   "pygments_lexer": "ipython3",
   "version": "3.9.7"
  }
 },
 "nbformat": 4,
 "nbformat_minor": 5
}
