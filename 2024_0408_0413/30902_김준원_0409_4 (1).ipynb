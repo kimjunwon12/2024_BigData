{
 "cells": [
  {
   "cell_type": "markdown",
   "id": "89dce819",
   "metadata": {},
   "source": [
    "## 30902_김준원_0409_4"
   ]
  },
  {
   "cell_type": "markdown",
   "id": "7e774f16",
   "metadata": {},
   "source": [
    "## 조건문으로 간단한 프로그램 만들기"
   ]
  },
  {
   "cell_type": "code",
   "execution_count": 3,
   "id": "23f8d76d",
   "metadata": {},
   "outputs": [
    {
     "name": "stdout",
     "output_type": "stream",
     "text": [
      "나이가 어떻게 되십니까? 19\n",
      "미성년자는 6000원입니다.\n"
     ]
    }
   ],
   "source": [
    "# 목욕탕 가면 미성년자는 6000원 성인은 15000원\n",
    "# 나이를 입력받아서 구분하는 프로그램을 만들어 보자\n",
    "\n",
    "age = int(input('나이가 어떻게 되십니까? '))\n",
    "\n",
    "if age >= 20 :\n",
    "    print('성인은 15000원입니다.')\n",
    "else :\n",
    "    print('미성년자는 6000원입니다.')"
   ]
  },
  {
   "cell_type": "code",
   "execution_count": 26,
   "id": "502f3c58",
   "metadata": {},
   "outputs": [
    {
     "ename": "SyntaxError",
     "evalue": "invalid syntax (Temp/ipykernel_10236/780677298.py, line 18)",
     "output_type": "error",
     "traceback": [
      "\u001b[1;36m  File \u001b[1;32m\"C:\\Users\\user\\AppData\\Local\\Temp/ipykernel_10236/780677298.py\"\u001b[1;36m, line \u001b[1;32m18\u001b[0m\n\u001b[1;33m    elif price_input == price :\u001b[0m\n\u001b[1;37m    ^\u001b[0m\n\u001b[1;31mSyntaxError\u001b[0m\u001b[1;31m:\u001b[0m invalid syntax\n"
     ]
    }
   ],
   "source": [
    "# 나이 부분\n",
    "# 금액 부분\n",
    "\n",
    "# 1단계\n",
    "age = int(input('나이가 어떻게 되십니까? '))\n",
    "\n",
    "if age >= 20:\n",
    "    print('성인은 15000원입니다. ')\n",
    "    price = 15000\n",
    "else :\n",
    "    print('미성년자는 6000원입니다. ')\n",
    "    price = 6000\n",
    "#2단계 투입금액을 입력받아 입장료와 비교하기\n",
    "price_input = int(input('금액을 투입해주세요 --> '))\n",
    "\n",
    "if price_input < price :\n",
    "    print(f'{price_price_input}원 더 내셔야 합니다.')\n",
    "elif price_input == price :\n",
    "    print(f'감사합니다. 즐거운 시간 되세요. ')\n",
    "else :\n",
    "    print(f'{price_input-price}원 더 거슬러 드리겠습니다.')\n"
   ]
  },
  {
   "cell_type": "markdown",
   "id": "f73f6041",
   "metadata": {},
   "source": [
    "### 어떤 메뉴가 궁금하신가요? 라면\n",
    "### 기본라면: 3500원\n",
    "### 떡라면: 4000원\n",
    "### 만두라면: 4000원\n",
    "\n",
    "### 김밥\n",
    "### 야채김밥 : 3000원\n",
    "### 참치김밥 : 4000원\n",
    "### 꼬마김밥 : 2000원\n",
    "    "
   ]
  },
  {
   "cell_type": "code",
   "execution_count": 30,
   "id": "33d6cf46",
   "metadata": {},
   "outputs": [
    {
     "name": "stdout",
     "output_type": "stream",
     "text": [
      "어떤 메뉴가 궁금하신가요?김밥\n",
      "야채김밥: 2500원\n",
      "참치김밥: 3500원\n"
     ]
    }
   ],
   "source": [
    "menu = input('어떤 메뉴가 궁금하신가요?')\n",
    "\n",
    "if menu == '김밥' :\n",
    "    print('야채김밥: 2500원')\n",
    "    print('참치김밥: 3500원')\n",
    "elif menu == '라면' :\n",
    "    print('기본라면: 3500원')\n",
    "    print('떡라면: 4000원')\n",
    "    print('만두라면: 4000원')\n",
    "else :\n",
    "    print('올바른 메뉴를 입력해 주세요')"
   ]
  },
  {
   "cell_type": "code",
   "execution_count": null,
   "id": "760148be",
   "metadata": {},
   "outputs": [],
   "source": []
  }
 ],
 "metadata": {
  "kernelspec": {
   "display_name": "Python 3 (ipykernel)",
   "language": "python",
   "name": "python3"
  },
  "language_info": {
   "codemirror_mode": {
    "name": "ipython",
    "version": 3
   },
   "file_extension": ".py",
   "mimetype": "text/x-python",
   "name": "python",
   "nbconvert_exporter": "python",
   "pygments_lexer": "ipython3",
   "version": "3.9.7"
  }
 },
 "nbformat": 4,
 "nbformat_minor": 5
}
