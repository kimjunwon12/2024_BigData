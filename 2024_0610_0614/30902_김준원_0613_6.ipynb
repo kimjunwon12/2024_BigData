{
 "cells": [
  {
   "cell_type": "markdown",
   "id": "25c2e5df",
   "metadata": {},
   "source": [
    "# 30902_김준원_0613_6"
   ]
  },
  {
   "cell_type": "code",
   "execution_count": 2,
   "id": "379c9a90",
   "metadata": {},
   "outputs": [
    {
     "data": {
      "image/png": "[encoded data removed]",
      "text/plain": [
       "<Figure size 432x288 with 1 Axes>"
      ]
     },
     "metadata": {
      "needs_background": "light"
     },
     "output_type": "display_data"
    }
   ],
   "source": [
    "import matplotlib.pyplot as plt\n",
    "# 한글폰트 적용하기\n",
    "plt.rc('font',family='Malgun Gothic')\n",
    "\n",
    "#data\n",
    "sales=[1,5,7,3,7]\n",
    "month=[3,4,5,6,7]\n",
    "\n",
    "#막대 그래프 그리기 plt.bar()\n",
    "plt.title('월별 판매 실적') #제목\n",
    "plt.bar(month,sales,color='b') #  컬러 파란색\n",
    "\n",
    "plt.show()"
   ]
  }
 ],
 "metadata": {
  "kernelspec": {
   "display_name": "Python 3 (ipykernel)",
   "language": "python",
   "name": "python3"
  },
  "language_info": {
   "codemirror_mode": {
    "name": "ipython",
    "version": 3
   },
   "file_extension": ".py",
   "mimetype": "text/x-python",
   "name": "python",
   "nbconvert_exporter": "python",
   "pygments_lexer": "ipython3",
   "version": "3.9.7"
  }
 },
 "nbformat": 4,
 "nbformat_minor": 5
}
