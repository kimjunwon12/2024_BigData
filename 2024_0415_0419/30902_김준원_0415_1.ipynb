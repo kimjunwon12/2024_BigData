{
 "cells": [
  {
   "cell_type": "markdown",
   "id": "992c859a",
   "metadata": {},
   "source": [
    "# 30902_김준원_0415_1"
   ]
  },
  {
   "cell_type": "code",
   "execution_count": 1,
   "id": "bdc964d3",
   "metadata": {},
   "outputs": [
    {
     "name": "stdout",
     "output_type": "stream",
     "text": [
      "6275\n"
     ]
    }
   ],
   "source": [
    "## 반복문을 이용하여 101부터 150까지 합을 구하는 프로그램 작성\n",
    "# 결과용 변수 만들고 초기화\n",
    "result = 0\n",
    "# 반복문 for\n",
    "\n",
    "for i in range(101,151) :\n",
    "    result += i\n",
    "print(result)"
   ]
  },
  {
   "cell_type": "code",
   "execution_count": 10,
   "id": "70f01ac5",
   "metadata": {},
   "outputs": [
    {
     "name": "stdout",
     "output_type": "stream",
     "text": [
      "362880\n"
     ]
    }
   ],
   "source": [
    "# 1부터 50까지 곱핮는 프로그램 작성\n",
    "# 결과용 변수 만들고 초기호ㅏ\n",
    "result = 1\n",
    "# 반복문 for\n",
    "\n",
    "for i in range(1,10) :\n",
    "    result *= i\n",
    "print(result)"
   ]
  },
  {
   "cell_type": "code",
   "execution_count": 17,
   "id": "4be0f4fc",
   "metadata": {},
   "outputs": [
    {
     "name": "stdout",
     "output_type": "stream",
     "text": [
      "몇 단을 외울까요? 9\n",
      "9 X 1 = 9\n",
      "9 X 2 = 18\n",
      "9 X 3 = 27\n",
      "9 X 4 = 36\n",
      "9 X 5 = 45\n",
      "9 X 6 = 54\n",
      "9 X 7 = 63\n",
      "9 X 8 = 72\n",
      "9 X 9 = 81\n",
      "9 X 10 = 90\n",
      "9 X 11 = 99\n",
      "9 X 12 = 108\n",
      "9 X 13 = 117\n",
      "9 X 14 = 126\n",
      "9 X 15 = 135\n",
      "9 X 16 = 144\n",
      "9 X 17 = 153\n",
      "9 X 18 = 162\n",
      "9 X 19 = 171\n"
     ]
    }
   ],
   "source": [
    "# 구구단 출력하기\n",
    "# 입력값 설계\n",
    "num = int(input('몇 단을 외울까요? '))\n",
    "# 출력값 설계\n",
    "for i in range(1,20):\n",
    "    print(f'{num} X {i} = {num*i}')"
   ]
  },
  {
   "cell_type": "code",
   "execution_count": 54,
   "id": "d0f8c3df",
   "metadata": {},
   "outputs": [
    {
     "name": "stdout",
     "output_type": "stream",
     "text": [
      "8\n"
     ]
    }
   ],
   "source": [
    "# random 임의의 숫자\n",
    "\n",
    "# 라이브러리 libary 불러오기\n",
    "import random\n",
    "# 랜덤 범위를 지정한다. 정수를 가져오기.\n",
    "print(random.randint(1,10))"
   ]
  },
  {
   "cell_type": "code",
   "execution_count": 57,
   "id": "2472be7d",
   "metadata": {},
   "outputs": [
    {
     "name": "stdout",
     "output_type": "stream",
     "text": [
      "6\n",
      "8\n",
      "3\n",
      "9\n",
      "10\n",
      "7\n",
      "8\n",
      "4\n",
      "10\n",
      "5\n"
     ]
    }
   ],
   "source": [
    "import random\n",
    "\n",
    "for i in range(10) :\n",
    "    print(random.randint(0,10))"
   ]
  },
  {
   "cell_type": "code",
   "execution_count": 61,
   "id": "8e9d53af",
   "metadata": {},
   "outputs": [
    {
     "name": "stdout",
     "output_type": "stream",
     "text": [
      "구구단 외자~~구구단 외자~~\n",
      "6 X 7 은? 42\n",
      "6 X 1 은? 6\n",
      "7 X 1 은? 7\n",
      "3 X 8 은? 24\n",
      "4 X 9 은? 36\n",
      "8 X 7 은? 56\n",
      "7 X 6 은? 42\n",
      "4 X 5 은? 20\n",
      "3 X 4 은? 12\n",
      "7 X 7 은? 49\n"
     ]
    }
   ],
   "source": [
    "# 구구단 외기 게임 1\n",
    "import random\n",
    "\n",
    "print('구구단 외자~~'*2)\n",
    "\n",
    "for i in range(10) :\n",
    "    a = random.randint(2,9)\n",
    "    \n",
    "    b = random.randint(1,9)\n",
    "    print(f'{a} X {b} 은? {a*b}')"
   ]
  },
  {
   "cell_type": "code",
   "execution_count": 66,
   "id": "fba9a6e0",
   "metadata": {},
   "outputs": [
    {
     "name": "stdout",
     "output_type": "stream",
     "text": [
      "구구단 외자~~구구단 외자~~\n",
      "3X3? 3\n",
      "5X4? 3\n",
      "4X2? 3\n",
      "9X5? 3\n",
      "5X5? 3\n",
      "6X5? 3\n",
      "9X5? 3\n",
      "3X1? 3\n",
      "8X5? 3\n",
      "3X6? 3\n"
     ]
    }
   ],
   "source": [
    "# 구구단 외기 게임 2 - 정답을 입력받아 보기\n",
    "import random\n",
    "\n",
    "print('구구단 외자~~'*2)\n",
    "\n",
    "for i in range(10) :\n",
    "    a = random.randint(2,9)\n",
    "    \n",
    "    b = random.randint(1,9)\n",
    "    question =  str(a) + 'X' + str(b) + '? '\n",
    "    input(question)"
   ]
  },
  {
   "cell_type": "code",
   "execution_count": 68,
   "id": "5292c5ba",
   "metadata": {},
   "outputs": [
    {
     "name": "stdout",
     "output_type": "stream",
     "text": [
      "구구단 외자~~구구단 외자~~\n",
      "6 X 7 은?42\n",
      "2 X 8 은?16\n",
      "5 X 4 은?20\n",
      "6 X 4 은?24\n",
      "4 X 6 은?24\n",
      "9 X 7 은?71\n",
      "틀렸씁니다\n",
      "7 X 4 은?32\n",
      "틀렸씁니다\n",
      "3 X 1 은?3\n",
      "7 X 5 은?35\n",
      "8 X 2 은?16\n"
     ]
    }
   ],
   "source": [
    "# 구구단 외기 게임 3 - 정답입력이 맞다 틀리다를 구분\n",
    "\n",
    "print('구구단 외자~~'*2)\n",
    "\n",
    "for i in range(10) :\n",
    "    a = random.randint(2,9)\n",
    "    \n",
    "    b = random.randint(1,9)\n",
    "    question =  input(f'{a} X {b} 은?')\n",
    "    answer = int(question)\n",
    "    if answer != a*b :\n",
    "        print('틀렸씁니다')\n",
    "                    "
   ]
  },
  {
   "cell_type": "code",
   "execution_count": null,
   "id": "1cc4c117",
   "metadata": {},
   "outputs": [],
   "source": []
  }
 ],
 "metadata": {
  "kernelspec": {
   "display_name": "Python 3 (ipykernel)",
   "language": "python",
   "name": "python3"
  },
  "language_info": {
   "codemirror_mode": {
    "name": "ipython",
    "version": 3
   },
   "file_extension": ".py",
   "mimetype": "text/x-python",
   "name": "python",
   "nbconvert_exporter": "python",
   "pygments_lexer": "ipython3",
   "version": "3.9.7"
  }
 },
 "nbformat": 4,
 "nbformat_minor": 5
}
