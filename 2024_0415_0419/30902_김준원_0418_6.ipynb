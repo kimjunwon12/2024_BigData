{
 "cells": [
  {
   "cell_type": "markdown",
   "id": "e31f0d45",
   "metadata": {},
   "source": [
    "# 30902_김준원_0418_6"
   ]
  },
  {
   "cell_type": "code",
   "execution_count": 10,
   "id": "d3a123e3",
   "metadata": {},
   "outputs": [
    {
     "name": "stdout",
     "output_type": "stream",
     "text": [
      "월 별로 수입액을 입력시켜 주세요!\n",
      "1 월의 수입액을 입력시켜 주세요\n",
      "11\n",
      "2 월의 수입액을 입력시켜 주세요\n",
      "11\n",
      "3 월의 수입액을 입력시켜 주세요\n",
      "1\n",
      "4 월의 수입액을 입력시켜 주세요\n",
      "1\n",
      "5 월의 수입액을 입력시켜 주세요\n",
      "1\n",
      "6 월의 수입액을 입력시켜 주세요\n",
      "1\n",
      "상반기 월별 수입액 입니다.\n",
      "상반기 월 수입액의 평균은 26 만웝 입니다.\n",
      "상반기 월 수입액의 평균은 4.333333333333333 만원 입니다.\n"
     ]
    }
   ],
   "source": [
    "money = []\n",
    "print('월 별로 수입액을 입력시켜 주세요!')\n",
    "for j in range(0,6) :\n",
    "    print((j+1),'월의 수입액을 입력시켜 주세요')\n",
    "    money.append(int(input('')))\n",
    "sum = 0\n",
    "i = 0\n",
    "print('상반기 월별 수입액 입니다.')\n",
    "while i<6 :\n",
    "    sum = money[i] + sum\n",
    "    i = i+1\n",
    "avg = sum/6\n",
    "print('상반기 월 수입액의 평균은',sum,'만웝 입니다.')\n",
    "print('상반기 월 수입액의 평균은',avg,'만원 입니다.')"
   ]
  },
  {
   "cell_type": "code",
   "execution_count": 11,
   "id": "fd641e29",
   "metadata": {},
   "outputs": [
    {
     "name": "stdout",
     "output_type": "stream",
     "text": [
      "월 별로 수입액을 입력시켜 주세요!\n",
      "1 월의 수입액을 입력시켜 주세요\n",
      "11\n",
      "2 월의 수입액을 입력시켜 주세요\n",
      "11\n",
      "3 월의 수입액을 입력시켜 주세요\n",
      "100\n",
      "4 월의 수입액을 입력시켜 주세요\n",
      "5000\n",
      "5 월의 수입액을 입력시켜 주세요\n",
      "60000\n",
      "6 월의 수입액을 입력시켜 주세요\n",
      "600000000\n",
      "상반기 월별 수입액 입니다.\n",
      "상반기 월 수입액의 평균은 600065122 만웝 입니다.\n",
      "상반기 월 수입액의 평균은 100010853.66666667 만원 입니다.\n"
     ]
    }
   ],
   "source": [
    "money = [] # 월별 수입을 저장할 리스트를  초기화합니다.\n",
    "\n",
    "print('월 별로 수입액을 입력시켜 주세요!')\n",
    "for j in range(0,6) :\n",
    "    print((j+1),'월의 수입액을 입력시켜 주세요')\n",
    "    money.append(int(input(''))) # 사용자로부터 수업을 입력 받아 리스트에 추가합니다.\n",
    "    \n",
    "sum = 0  # 총 수입을 저장할 변수를 초기화합니다.\n",
    "i = 0\n",
    "print('상반기 월별 수입액 입니다.')\n",
    "while i<6 :\n",
    "    sum = money[i] + sum # 리스트의 각 항목을 더해 총 수입을 계산합니다.\n",
    "    i = i+1\n",
    "    \n",
    "avg = sum/6 # 평균을 계산합니다.\n",
    "print('상반기 월 수입액의 평균은',sum,'만웝 입니다.')\n",
    "print('상반기 월 수입액의 평균은',avg,'만원 입니다.')"
   ]
  },
  {
   "cell_type": "markdown",
   "id": "2452187d",
   "metadata": {},
   "source": [
    "## 예상문제4 : 무작위로 입력된 점수 리스트에서 70점 이상인 번호와 값 출력하기"
   ]
  },
  {
   "cell_type": "code",
   "execution_count": 42,
   "id": "4ce8ea06",
   "metadata": {},
   "outputs": [
    {
     "name": "stdout",
     "output_type": "stream",
     "text": [
      "리스트에서 점수가 70점 이상인 번호와 값 출력하기\n",
      "1 변 75\n",
      "4 변 89\n",
      "1 변 75\n",
      "7 변 100\n",
      "8 변 84\n",
      "9 변 86\n",
      "9 변 86\n",
      "14 변 80\n",
      "17 변 72\n",
      "18 변 99\n",
      "18 변 99\n",
      "21 변 76\n",
      "14 변 80\n",
      "25 변 77\n"
     ]
    }
   ],
   "source": [
    "import random\n",
    "score = []\n",
    "for i in range(0,25) :\n",
    "    score.append(random.randint(0,100)) # \n",
    "print('리스트에서 점수가 70점 이상인 번호와 값 출력하기')\n",
    "for s in score :\n",
    "    if s>=70:\n",
    "        print(score.index(s)+1,'변',s)"
   ]
  },
  {
   "cell_type": "code",
   "execution_count": 43,
   "id": "be5dfb92",
   "metadata": {},
   "outputs": [
    {
     "name": "stdout",
     "output_type": "stream",
     "text": [
      "리스트에서 점수가 70점 이상인 번호와 값 출력하기\n",
      "7 변 93\n",
      "9 변 96\n",
      "7 변 93\n",
      "18 변 92\n",
      "19 변 70\n",
      "21 변 94\n",
      "22 변 77\n",
      "23 변 100\n"
     ]
    }
   ],
   "source": [
    "import random # 숫자를 랜덤으로 출력\n",
    "score = [] # 점수를 저장할 리스트를 초기화\n",
    "# 25명의 학생에게 무작위 점수 부여\n",
    "for i in range(0,25) :\n",
    "    score.append(random.randint(0,100))\n",
    "print('리스트에서 점수가 70점 이상인 번호와 값 출력하기')\n",
    "#리스트에서 70점 이상인 점수를 가진 학생들의 번호화 점수 출력\n",
    "for s in score :\n",
    "    if s>=70:\n",
    "        print(score.index(s)+1,'변',s) #인덱스 값이 0부터 시작되니까 +1을 해놓는다"
   ]
  },
  {
   "cell_type": "markdown",
   "id": "4f364478",
   "metadata": {},
   "source": [
    "## 예상문제5 : 지하철 게임 만들기"
   ]
  },
  {
   "cell_type": "code",
   "execution_count": 45,
   "id": "c8d2451c",
   "metadata": {},
   "outputs": [
    {
     "name": "stdout",
     "output_type": "stream",
     "text": [
      "지하철~♪♬지하철~♪♬지하철~♪♬지하철~♪♬\n",
      "몇호선?팔호선\n",
      "단대오거리\n",
      "\n",
      "땡! 해당 역은 팔호선 이 아닙니다!\n",
      "벌칙 당첨\n"
     ]
    }
   ],
   "source": [
    "신분당선 = ['광교','광교중앙','상현','성복','수지구청','동천','미금','정자',\n",
    "       '판교','청계산입구','양재시민의숲','양재','강남']\n",
    "팔호선 = ['모란','수진','신흥','단대오거리','남한산성입구','산성','남위례','복정','장지','문정','가락시장','송파','석촌','잠실','몽촌토성','강동구청','천호','암사']\n",
    "\n",
    "print('지하철~♪♬'*4)\n",
    "호선 = input('몇호선?')\n",
    "for i in range(10) :\n",
    "    if 호선 == '신분당선' :\n",
    "        입력 = input()\n",
    "        if 입력 not in 신분당선:\n",
    "            print('떙! 해당 역은',호선,'이 아닙니다1')\n",
    "            print('벌칙 당첨!!')\n",
    "            break\n",
    "    elif 호선 == '팔호선' :\n",
    "        입력 = input()\n",
    "        if 입력 not in 팔호선:\n",
    "            print('땡! 해당 역은',호선,'이 아닙니다!')\n",
    "            print('벌칙 당첨!!')\n",
    "            break"
   ]
  },
  {
   "cell_type": "code",
   "execution_count": null,
   "id": "a5cab58b",
   "metadata": {},
   "outputs": [],
   "source": [
    "\n",
    "신분당선 = ['광교','광교중앙','상현','성복','수지구청','동천','미금','정자',\n",
    "       '판교','청계산입구','양재시민의숲','양재','강남']\n",
    "팔호선 = ['모란','수진','신흥','단대오거리','남한산성입구','산성','남위례','복정','장지','문정','가락시장','송파','석촌','잠실','몽촌토성','강동구청','천호','암사']\n",
    "\n",
    "print('지하철~♪♬'*4)\n",
    "\n",
    "# 사용자로부터 호선을 입력받습니다.\n",
    "호선 = input('몇호선?')\n",
    "\n",
    "# 입력된 호선에 따라 해당 호선의 역이름을 입력받고, 입력된 역이 해당 호선에 속하는지 확인합니다.\n",
    "for i in range(10) :\n",
    "    if 호선 == '신분당선' :\n",
    "        입력 = input()\n",
    "        if 입력 not in 신분당선:\n",
    "            print('떙! 해당 역은',호선,'이 아닙니다1')\n",
    "            print('벌칙 당첨!!')\n",
    "            break\n",
    "    elif 호선 == '팔호선' :\n",
    "        입력 = input()\n",
    "        if 입력 not in 팔호선:\n",
    "            print('땡! 해당 역은',호선,'이 아닙니다!')\n",
    "            print('벌칙 당첨!!')\n",
    "            break"
   ]
  }
 ],
 "metadata": {
  "kernelspec": {
   "display_name": "Python 3 (ipykernel)",
   "language": "python",
   "name": "python3"
  },
  "language_info": {
   "codemirror_mode": {
    "name": "ipython",
    "version": 3
   },
   "file_extension": ".py",
   "mimetype": "text/x-python",
   "name": "python",
   "nbconvert_exporter": "python",
   "pygments_lexer": "ipython3",
   "version": "3.9.7"
  }
 },
 "nbformat": 4,
 "nbformat_minor": 5
}
