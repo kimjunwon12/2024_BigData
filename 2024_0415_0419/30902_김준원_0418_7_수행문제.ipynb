{
 "cells": [
  {
   "cell_type": "markdown",
   "id": "2c402870",
   "metadata": {},
   "source": [
    "# 30902_김준원_0418_7"
   ]
  },
  {
   "cell_type": "markdown",
   "id": "281437bd",
   "metadata": {},
   "source": [
    "# 1."
   ]
  },
  {
   "cell_type": "code",
   "execution_count": 2,
   "id": "f4809348",
   "metadata": {},
   "outputs": [
    {
     "name": "stdout",
     "output_type": "stream",
     "text": [
      "1부터 1000까지 숫자 중에서 2의 배수이거나 3의 배수면 더하는 프로그램\n",
      "334167\n"
     ]
    }
   ],
   "source": [
    "print('1부터 1000까지 숫자 중에서 2의 배수이거나 3의 배수면 더하는 프로그램')\n",
    "\n",
    "res = 0\n",
    "num = 1\n",
    "\n",
    "while num <= 1000:\n",
    "    if num %2==0 or num % 3 == 0 :\n",
    "        res += num\n",
    "    num += 1\n",
    "print(res)"
   ]
  },
  {
   "cell_type": "code",
   "execution_count": 4,
   "id": "00da5dc3",
   "metadata": {},
   "outputs": [
    {
     "name": "stdout",
     "output_type": "stream",
     "text": [
      "1부터 1000까지 숫자 중에서 2의 배수이거나 3의 배수면 더하는 프로그램\n",
      "334167\n"
     ]
    }
   ],
   "source": [
    "print('1부터 1000까지 숫자 중에서 2의 배수이거나 3의 배수면 더하는 프로그램')\n",
    "\n",
    "res=0\n",
    "num=1\n",
    "\n",
    "while num <=1000:\n",
    "    if num %2==0 or num % 3 == 0 :\n",
    "        res += num\n",
    "    num += 1\n",
    "print(res)"
   ]
  },
  {
   "cell_type": "markdown",
   "id": "47357890",
   "metadata": {},
   "source": [
    "# 2."
   ]
  },
  {
   "cell_type": "code",
   "execution_count": 6,
   "id": "e7634aa1",
   "metadata": {},
   "outputs": [
    {
     "name": "stdout",
     "output_type": "stream",
     "text": [
      "6x4 = ?\n",
      "24\n",
      "정답!\n",
      "5x7 = ?\n",
      "35\n",
      "정답!\n",
      "2x2 = ?\n",
      "4\n",
      "정답!\n",
      "5x9 = ?\n",
      "45\n",
      "정답!\n",
      "5x7 = ?\n",
      "35\n",
      "정답!\n",
      "7x7 = ?\n",
      "48\n",
      "틀렸어요!\n",
      "6x7 = ?\n",
      "42\n",
      "정답!\n",
      "9x8 = ?\n",
      "72\n",
      "정답!\n",
      "8x4 = ?\n",
      "32\n",
      "정답!\n",
      "2x7 = ?\n",
      "14\n",
      "정답!\n",
      "맞춘 횟수 : 9, 틀린 횟수 :1\n"
     ]
    }
   ],
   "source": [
    "import random\n",
    "\n",
    "t_cnt = 0\n",
    "f_cnt = 0\n",
    "\n",
    "for i in range(10):\n",
    "    a = random.randint(2,9)\n",
    "    b = random.randint(1,9)\n",
    "    print('{}x{} = ?' .format(a,b))\n",
    "    answer = int(input(''))\n",
    "    if a*b == answer :\n",
    "        print('정답!')\n",
    "        \n",
    "        t_cnt = t_cnt + 1\n",
    "    else:\n",
    "        print('틀렸어요!')\n",
    "        f_cnt = f_cnt + 1\n",
    "print('맞춘 횟수 : {}, 틀린 횟수 :{}'.format(t_cnt, f_cnt))"
   ]
  },
  {
   "cell_type": "code",
   "execution_count": 7,
   "id": "f55f2ca0",
   "metadata": {},
   "outputs": [
    {
     "name": "stdout",
     "output_type": "stream",
     "text": [
      "8x5 = ?\n",
      "40\n",
      "정답!\n",
      "9x9 = ?\n",
      "81\n",
      "정답!\n",
      "9x9 = ?\n",
      "81\n",
      "정답!\n",
      "7x5 = ?\n",
      "35\n",
      "정답!\n",
      "8x7 = ?\n",
      "56\n",
      "정답!\n",
      "2x1 = ?\n",
      "2\n",
      "정답!\n",
      "4x4 = ?\n",
      "16\n",
      "정답!\n",
      "5x9 = ?\n",
      "45\n",
      "정답!\n",
      "6x4 = ?\n",
      "24\n",
      "정답!\n",
      "3x4 = ?\n",
      "12\n",
      "정답!\n",
      "맞춘 횟수 : 10, 틀린 횟수 :0\n"
     ]
    }
   ],
   "source": [
    "import random\n",
    "\n",
    "t_cnt = 0\n",
    "f_cnt = 0\n",
    "\n",
    "for i in range(10):\n",
    "    a = random.randint(2,9)\n",
    "    b = random.randint(1,9)\n",
    "    print('{}x{} = ?' .format(a,b))\n",
    "    answer = int(input(''))\n",
    "    if a*b == answer :\n",
    "        print('정답!')\n",
    "        \n",
    "        t_cnt = t_cnt + 1\n",
    "    else:\n",
    "        print('틀렸어요!')\n",
    "        f_cnt = f_cnt + 1\n",
    "print('맞춘 횟수 : {}, 틀린 횟수 :{}'.format(t_cnt, f_cnt))"
   ]
  },
  {
   "cell_type": "markdown",
   "id": "ca356eab",
   "metadata": {},
   "source": [
    "# 3."
   ]
  },
  {
   "cell_type": "code",
   "execution_count": 13,
   "id": "310a4e6d",
   "metadata": {},
   "outputs": [
    {
     "name": "stdout",
     "output_type": "stream",
     "text": [
      "월 별로 수입액을 입력시켜 주세요!\n",
      "1 월의 수입액을 입력시켜 주세요\n",
      "10\n",
      "2 월의 수입액을 입력시켜 주세요\n",
      "10\n",
      "3 월의 수입액을 입력시켜 주세요\n",
      "10\n",
      "4 월의 수입액을 입력시켜 주세요\n",
      "10\n",
      "5 월의 수입액을 입력시켜 주세요\n",
      "10\n",
      "6 월의 수입액을 입력시켜 주세요\n",
      "10\n",
      "상반기 월별 수입액 입니다.\n",
      "상반기 월 수입액의 평균은 60 만원 입니다.\n",
      "상반기 월 수입액의 평균은 10.0 만원 입니다.\n"
     ]
    }
   ],
   "source": [
    "money = []\n",
    "print('월 별로 수입액을 입력시켜 주세요!')\n",
    "for j in range(0,6):\n",
    "    print((j+1),'월의 수입액을 입력시켜 주세요')\n",
    "    money.append(int(input('')))\n",
    "sum=0\n",
    "i=0\n",
    "print('상반기 월별 수입액 입니다.')\n",
    "while i<6 :\n",
    "    sum = money[i] + sum\n",
    "    i = i+1\n",
    "avg = sum/6\n",
    "print('상반기 월 수입액의 평균은',sum,'만원 입니다.')\n",
    "print('상반기 월 수입액의 평균은',avg,'만원 입니다.')"
   ]
  },
  {
   "cell_type": "code",
   "execution_count": 15,
   "id": "e15c0752",
   "metadata": {},
   "outputs": [
    {
     "name": "stdout",
     "output_type": "stream",
     "text": [
      "월 별로 수입액을 입력시켜 주세요!\n",
      "1 월의 수입액을 입력시켜 주세요\n",
      "100\n",
      "2 월의 수입액을 입력시켜 주세요\n",
      "100\n",
      "3 월의 수입액을 입력시켜 주세요\n",
      "100\n",
      "4 월의 수입액을 입력시켜 주세요\n",
      "100\n",
      "5 월의 수입액을 입력시켜 주세요\n",
      "100\n",
      "6 월의 수입액을 입력시켜 주세요\n",
      "100\n",
      "상반기 월별 수입액 입니다.\n",
      "상반기 월 수입액의 평균은 600 만원 입니다.\n",
      "상반기 월 수입액의 평균은 100.0 만원 입니다.\n"
     ]
    }
   ],
   "source": [
    "money = []\n",
    "print('월 별로 수입액을 입력시켜 주세요!')\n",
    "for j in range(0,6):\n",
    "    print((j+1),'월의 수입액을 입력시켜 주세요')\n",
    "    money.append(int(input('')))\n",
    "sum=0 \n",
    "i=0\n",
    "print('상반기 월별 수입액 입니다.')\n",
    "while i<6:\n",
    "    sum=money[i]+sum\n",
    "    i = i+1\n",
    "avg = sum/6\n",
    "print('상반기 월 수입액의 평균은',sum,'만원 입니다.')\n",
    "print('상반기 월 수입액의 평균은',avg,'만원 입니다.')"
   ]
  },
  {
   "cell_type": "markdown",
   "id": "0db1e2e5",
   "metadata": {},
   "source": [
    "# 4."
   ]
  },
  {
   "cell_type": "code",
   "execution_count": 17,
   "id": "2478ae68",
   "metadata": {},
   "outputs": [
    {
     "name": "stdout",
     "output_type": "stream",
     "text": [
      "리스트에서 점수가 70점 이상인 번호와 값 출력하기\n",
      "3 변 98\n",
      "9 변 71\n",
      "13 변 92\n",
      "13 변 92\n"
     ]
    }
   ],
   "source": [
    "import random\n",
    "score=[]\n",
    "for i in range(0,25):\n",
    "    score.append(random.randint(0,100))\n",
    "print('리스트에서 점수가 70점 이상인 번호와 값 출력하기')\n",
    "for s in score:\n",
    "    if s>=70:\n",
    "        print(score.index(s)+1,'변',s)"
   ]
  },
  {
   "cell_type": "code",
   "execution_count": 19,
   "id": "a3716c15",
   "metadata": {},
   "outputs": [
    {
     "name": "stdout",
     "output_type": "stream",
     "text": [
      "리스트에서 점수가 70점 이상인 번호와 값 출력하기\n",
      "2 변 73\n",
      "3 변 93\n",
      "7 변 71\n",
      "2 변 73\n",
      "12 변 94\n",
      "18 변 97\n",
      "20 변 96\n",
      "23 변 74\n"
     ]
    }
   ],
   "source": [
    "import random\n",
    "score = []\n",
    "for i in range(0,25):\n",
    "    score.append(random.randint(0,100))\n",
    "print('리스트에서 점수가 70점 이상인 번호와 값 출력하기')\n",
    "for s in score:\n",
    "    if s>=70:\n",
    "        print(score.index(s)+1,'변',s)"
   ]
  },
  {
   "cell_type": "markdown",
   "id": "15852056",
   "metadata": {},
   "source": [
    "# 5."
   ]
  },
  {
   "cell_type": "code",
   "execution_count": null,
   "id": "5e47447e",
   "metadata": {},
   "outputs": [],
   "source": [
    "신분당선 = ['광교','광교중앙','상현','성복','수지구청','동천','미금','정자',\n",
    "       '판교','청계산입구','양재시민의숲','양재','강남']\n",
    "팔호선 = ['모란','수진','신흥','단대오거리','남한산성입구','산성','남위례','복정','장지','문정','가락시장','송파','석촌','잠실','몽촌토성','강동구청','천호','암사']\n",
    "print('지하철~♪♬'*4)\n",
    "호선 = input('몇호선?')\n",
    "for i in range(10) :\n",
    "    if 호선 == '신분당선' :\n",
    "        입력 = input()\n",
    "        if 입력 not in 신분당선:\n",
    "            print('떙! 해당 역은',호선,'이 아닙니다1')\n",
    "            print('벌칙 당첨!!')\n",
    "            break\n",
    "    elif 호선 == '팔호선' :\n",
    "        입력 = input()\n",
    "        if 입력 not in 팔호선:\n",
    "            print('땡! 해당 역은',호선,'이 아닙니다!')\n",
    "            print('벌칙 당첨!!')\n",
    "            break"
   ]
  },
  {
   "cell_type": "code",
   "execution_count": null,
   "id": "88ef89fe",
   "metadata": {},
   "outputs": [],
   "source": [
    "신분당선 = ['광교','광교중앙','상현','성복','수지구청','동천','미금','정자',\n",
    "       '판교','청계산입구','양재시민의숲','양재','강남']\n",
    "팔호선 = ['모란','수진','신흥','단대오거리','남한산성입구','산성','남위례','복정','장지','문정','가락시장','송파','석촌','잠실','몽촌토성','강동구청','천호','암사']\n",
    "print('지하철~♪♬'*4)\n",
    "호선 = input('몇호선?')\n",
    "for i in range(10) :\n",
    "    if 호선 == '신분당선' :\n",
    "        입력 = input()\n",
    "        if 입력 not in 신분당선:\n",
    "            print('떙! 해당 역은',호선,'이 아닙니다1')\n",
    "            print('벌칙 당첨!!')\n",
    "            break\n",
    "    elif 호선 == '팔호선' :\n",
    "        입력 = input()\n",
    "        if 입력 not in 팔호선:\n",
    "            print('땡! 해당 역은',호선,'이 아닙니다!')\n",
    "            print('벌칙 당첨!!')\n",
    "            break"
   ]
  }
 ],
 "metadata": {
  "kernelspec": {
   "display_name": "Python 3 (ipykernel)",
   "language": "python",
   "name": "python3"
  },
  "language_info": {
   "codemirror_mode": {
    "name": "ipython",
    "version": 3
   },
   "file_extension": ".py",
   "mimetype": "text/x-python",
   "name": "python",
   "nbconvert_exporter": "python",
   "pygments_lexer": "ipython3",
   "version": "3.9.7"
  }
 },
 "nbformat": 4,
 "nbformat_minor": 5
}
