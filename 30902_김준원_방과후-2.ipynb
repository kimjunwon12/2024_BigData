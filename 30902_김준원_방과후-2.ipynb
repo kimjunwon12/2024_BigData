{
 "cells": [
  {
   "cell_type": "code",
   "execution_count": 4,
   "id": "e17d2a9d",
   "metadata": {},
   "outputs": [
    {
     "data": {
      "text/plain": [
       "['881120', '1068234']"
      ]
     },
     "execution_count": 4,
     "metadata": {},
     "output_type": "execute_result"
    }
   ],
   "source": [
    "a = \"881120-1068234\"\n",
    "\n",
    "s = a.split(\"-\")\n",
    "s"
   ]
  },
  {
   "cell_type": "code",
   "execution_count": 13,
   "id": "27f4fb80",
   "metadata": {},
   "outputs": [
    {
     "name": "stdout",
     "output_type": "stream",
     "text": [
      "당신의 생년월일은  88 년 11 월 20 일 입니다.\n"
     ]
    }
   ],
   "source": [
    "print('당신의 생년월일은 ',s[0][0:2],'년',s[0][2:4],'월',s[0][4:6],'일 입니다.')"
   ]
  },
  {
   "cell_type": "code",
   "execution_count": 27,
   "id": "894289bf",
   "metadata": {},
   "outputs": [
    {
     "name": "stdout",
     "output_type": "stream",
     "text": [
      "case 3\n"
     ]
    }
   ],
   "source": [
    "money = 300\n",
    "card = True\n",
    "\n",
    "if money != 300:  \n",
    "    if card:\n",
    "        print(\"case 1\")\n",
    "    else:\n",
    "        print(\"case 2\")\n",
    "else:\n",
    "    if card:\n",
    "        print(\"case 3\")\n",
    "    else:\n",
    "        print(\"case 4\")"
   ]
  },
  {
   "cell_type": "code",
   "execution_count": 30,
   "id": "52b0fb7c",
   "metadata": {},
   "outputs": [
    {
     "data": {
      "text/plain": [
       "False"
      ]
     },
     "execution_count": 30,
     "metadata": {},
     "output_type": "execute_result"
    }
   ],
   "source": [
    "I = [1,2,3,4]\n",
    "\n",
    "5 in I\n"
   ]
  },
  {
   "cell_type": "code",
   "execution_count": 98,
   "id": "af893521",
   "metadata": {},
   "outputs": [
    {
     "name": "stdout",
     "output_type": "stream",
     "text": [
      "sort() 메서드 사용 결과: [1, 3, 5, 7, 9, 11]\n"
     ]
    }
   ],
   "source": [
    "my_list = [1,3,5,7,9,11]\n",
    "my_list.sort()\n",
    "print(\"sort() 메서드 사용 결과:\", my_list)"
   ]
  },
  {
   "cell_type": "code",
   "execution_count": 99,
   "id": "a54fe140",
   "metadata": {},
   "outputs": [
    {
     "name": "stdout",
     "output_type": "stream",
     "text": [
      "길이는:6\n"
     ]
    }
   ],
   "source": [
    "l = len(my_list)\n",
    "print(f\"길이는:{l}\")"
   ]
  },
  {
   "cell_type": "code",
   "execution_count": 100,
   "id": "59ad05b5",
   "metadata": {},
   "outputs": [
    {
     "data": {
      "text/plain": [
       "3"
      ]
     },
     "execution_count": 100,
     "metadata": {},
     "output_type": "execute_result"
    }
   ],
   "source": [
    "\n",
    "m=l//2\n",
    "m"
   ]
  },
  {
   "cell_type": "code",
   "execution_count": 101,
   "id": "dd3d606b",
   "metadata": {},
   "outputs": [
    {
     "data": {
      "text/plain": [
       "[5, 7]"
      ]
     },
     "execution_count": 101,
     "metadata": {},
     "output_type": "execute_result"
    }
   ],
   "source": [
    "my_list[m-1:m+1]"
   ]
  },
  {
   "cell_type": "code",
   "execution_count": null,
   "id": "62efc102",
   "metadata": {},
   "outputs": [],
   "source": [
    "!pip install opencv-python"
   ]
  },
  {
   "cell_type": "code",
   "execution_count": 106,
   "id": "f052a2a0",
   "metadata": {},
   "outputs": [
    {
     "ename": "NameError",
     "evalue": "name 'find_middle' is not defined",
     "output_type": "error",
     "traceback": [
      "\u001b[1;31m---------------------------------------------------------------------------\u001b[0m",
      "\u001b[1;31mNameError\u001b[0m                                 Traceback (most recent call last)",
      "Cell \u001b[1;32mIn[106], line 1\u001b[0m\n\u001b[1;32m----> 1\u001b[0m \u001b[38;5;28mprint\u001b[39m(\u001b[38;5;124m\"\u001b[39m\u001b[38;5;124m중간 값(들):\u001b[39m\u001b[38;5;124m\"\u001b[39m,\u001b[43mfind_middle\u001b[49m(my_list))\n",
      "\u001b[1;31mNameError\u001b[0m: name 'find_middle' is not defined"
     ]
    }
   ],
   "source": [
    "print(\"중간 값(들):\",find_middle(my_list))\n"
   ]
  },
  {
   "cell_type": "code",
   "execution_count": 129,
   "id": "b864a905",
   "metadata": {},
   "outputs": [],
   "source": [
    "\n",
    "import cv2\n",
    "\n",
    "image_path = 'sample.jpeg'\n",
    "\n",
    "image = cv2.imread(image_path)\n",
    "\n",
    "gray_image = cv2.cvtColor(image, cv2.COLOR_BGR2GRAY)\n",
    "\n",
    "cv2.imshow('Original Image' , image)\n",
    "\n",
    "cv2.waitKey(0)\n",
    "\n",
    "cv2.destroyAllWindows()"
   ]
  },
  {
   "cell_type": "code",
   "execution_count": 127,
   "id": "05fc21ad",
   "metadata": {},
   "outputs": [
    {
     "name": "stdout",
     "output_type": "stream",
     "text": [
      "Both x and y are positive\n"
     ]
    }
   ],
   "source": [
    "x = 5\n",
    "y = 10\n",
    "\n",
    "if x > 0 and y > 0:\n",
    "    print(\"Both x and y are positive\")\n",
    "else:\n",
    "    print(\"negative\")"
   ]
  },
  {
   "cell_type": "code",
   "execution_count": 128,
   "id": "f2576326",
   "metadata": {},
   "outputs": [
    {
     "name": "stdout",
     "output_type": "stream",
     "text": [
      "It's raining.\n"
     ]
    }
   ],
   "source": [
    "is_raining = True\n",
    "\n",
    "if not is_raining:\n",
    "    print(\"It's not raining.\")\n",
    "else:\n",
    "    print(\"It's raining.\")"
   ]
  },
  {
   "cell_type": "code",
   "execution_count": 131,
   "id": "db4db5be",
   "metadata": {},
   "outputs": [
    {
     "data": {
      "text/plain": [
       "array([[[216, 179, 135],\n",
       "        [222, 185, 141],\n",
       "        [232, 194, 150],\n",
       "        ...,\n",
       "        [220, 137,  39],\n",
       "        [220, 137,  39],\n",
       "        [220, 137,  39]],\n",
       "\n",
       "       [[218, 180, 136],\n",
       "        [221, 184, 140],\n",
       "        [228, 191, 147],\n",
       "        ...,\n",
       "        [220, 137,  39],\n",
       "        [220, 137,  39],\n",
       "        [220, 137,  39]],\n",
       "\n",
       "       [[219, 181, 137],\n",
       "        [220, 182, 138],\n",
       "        [222, 185, 141],\n",
       "        ...,\n",
       "        [220, 137,  39],\n",
       "        [220, 137,  39],\n",
       "        [220, 137,  39]],\n",
       "\n",
       "       ...,\n",
       "\n",
       "       [[140, 101,  94],\n",
       "        [138,  99,  92],\n",
       "        [141, 103,  95],\n",
       "        ...,\n",
       "        [ 74,  29,  82],\n",
       "        [ 72,  29,  82],\n",
       "        [ 72,  29,  82]],\n",
       "\n",
       "       [[139, 100,  93],\n",
       "        [136,  98,  91],\n",
       "        [140, 101,  94],\n",
       "        ...,\n",
       "        [ 74,  29,  82],\n",
       "        [ 72,  29,  82],\n",
       "        [ 72,  29,  82]],\n",
       "\n",
       "       [[139, 100,  93],\n",
       "        [136,  98,  91],\n",
       "        [140, 101,  94],\n",
       "        ...,\n",
       "        [ 74,  29,  82],\n",
       "        [ 72,  29,  82],\n",
       "        [ 72,  29,  82]]], dtype=uint8)"
      ]
     },
     "execution_count": 131,
     "metadata": {},
     "output_type": "execute_result"
    }
   ],
   "source": [
    "image"
   ]
  },
  {
   "cell_type": "code",
   "execution_count": null,
   "id": "3231369d",
   "metadata": {},
   "outputs": [],
   "source": [
    "import numpy as np\n",
    "import cv2\n",
    "\n",
    "width = 400\n",
    "height = 300\n",
    "\n",
    "red_color=np.full((height, width, 3),(0,0,255),dtype=np.uint8)\n",
    "\n",
    "cv2.imshow('Red Image', red_color)\n",
    "cv2.waitKey(0)\n",
    "cv2.destroyAllWindows()"
   ]
  },
  {
   "cell_type": "code",
   "execution_count": null,
   "id": "8a80d76d",
   "metadata": {},
   "outputs": [],
   "source": []
  },
  {
   "cell_type": "code",
   "execution_count": null,
   "id": "81ab5846",
   "metadata": {},
   "outputs": [],
   "source": []
  },
  {
   "cell_type": "code",
   "execution_count": null,
   "id": "76162cf2",
   "metadata": {},
   "outputs": [],
   "source": []
  },
  {
   "cell_type": "code",
   "execution_count": null,
   "id": "6e1877a5",
   "metadata": {},
   "outputs": [],
   "source": []
  },
  {
   "cell_type": "code",
   "execution_count": null,
   "id": "060ee5c1",
   "metadata": {},
   "outputs": [],
   "source": []
  }
 ],
 "metadata": {
  "kernelspec": {
   "display_name": "Python 3 (ipykernel)",
   "language": "python",
   "name": "python3"
  },
  "language_info": {
   "codemirror_mode": {
    "name": "ipython",
    "version": 3
   },
   "file_extension": ".py",
   "mimetype": "text/x-python",
   "name": "python",
   "nbconvert_exporter": "python",
   "pygments_lexer": "ipython3",
   "version": "3.10.9"
  }
 },
 "nbformat": 4,
 "nbformat_minor": 5
}
