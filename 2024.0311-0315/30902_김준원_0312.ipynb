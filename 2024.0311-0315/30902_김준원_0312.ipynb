{
 "cells": [
  {
   "cell_type": "markdown",
   "id": "8c55fc30",
   "metadata": {},
   "source": [
    "## 30902_김준원_0312_4"
   ]
  },
  {
   "cell_type": "markdown",
   "id": "a9454ec7",
   "metadata": {},
   "source": [
    "## 2.3 데이터를 넣는 입력 명령어\n",
    "#### 2.3.2 입력 명령어 input()"
   ]
  },
  {
   "cell_type": "code",
   "execution_count": 5,
   "id": "6246eb54",
   "metadata": {},
   "outputs": [
    {
     "name": "stdout",
     "output_type": "stream",
     "text": [
      "성일정보\n"
     ]
    },
    {
     "data": {
      "text/plain": [
       "'성일정보'"
      ]
     },
     "execution_count": 5,
     "metadata": {},
     "output_type": "execute_result"
    }
   ],
   "source": [
    "input()"
   ]
  },
  {
   "cell_type": "code",
   "execution_count": 9,
   "id": "856ffc0c",
   "metadata": {},
   "outputs": [
    {
     "name": "stdout",
     "output_type": "stream",
     "text": [
      "이름\n"
     ]
    },
    {
     "data": {
      "text/plain": [
       "''"
      ]
     },
     "execution_count": 9,
     "metadata": {},
     "output_type": "execute_result"
    }
   ],
   "source": [
    "input(\"이름\")"
   ]
  },
  {
   "cell_type": "code",
   "execution_count": 12,
   "id": "3b738321",
   "metadata": {},
   "outputs": [
    {
     "name": "stdout",
     "output_type": "stream",
     "text": [
      "아이디 :\n",
      "비밀번호 :\n"
     ]
    },
    {
     "data": {
      "text/plain": [
       "''"
      ]
     },
     "execution_count": 12,
     "metadata": {},
     "output_type": "execute_result"
    }
   ],
   "source": [
    "input(\"아이디 :\")\n",
    "input(\"비밀번호 :\")"
   ]
  },
  {
   "cell_type": "code",
   "execution_count": 16,
   "id": "261fbc37",
   "metadata": {},
   "outputs": [
    {
     "name": "stdout",
     "output_type": "stream",
     "text": [
      "학번을 입력하세요 --->30902\n"
     ]
    },
    {
     "data": {
      "text/plain": [
       "'30902'"
      ]
     },
     "execution_count": 16,
     "metadata": {},
     "output_type": "execute_result"
    }
   ],
   "source": [
    "input('학번을 입력하세요 --->')"
   ]
  },
  {
   "cell_type": "markdown",
   "id": "e9f85f9f",
   "metadata": {},
   "source": [
    "### > 출력해 보기\n",
    "'''\n",
    "#### ---회원가입---\n",
    "#### 아이디: gilbut\n",
    "#### 가입을 환영합니다!\n",
    "'''"
   ]
  },
  {
   "cell_type": "code",
   "execution_count": 17,
   "id": "9cd0c114",
   "metadata": {},
   "outputs": [
    {
     "name": "stdout",
     "output_type": "stream",
     "text": [
      "---회원가입---\n",
      "아이디: sungil information high school\n",
      "가입을 환영합니다1 \n"
     ]
    }
   ],
   "source": [
    "print('---회원가입---')\n",
    "input('아이디: ')\n",
    "print('가입을 환영합니다1 ')"
   ]
  },
  {
   "cell_type": "markdown",
   "id": "63961d39",
   "metadata": {},
   "source": [
    "## > 출력해 봅시다\n",
    "\n",
    "'''\n",
    "### 닉네임을 입력해 주세요 --> 졔졔쌤\n",
    "### 졔졔쌤님 안녕하세요\n",
    "'''"
   ]
  },
  {
   "cell_type": "code",
   "execution_count": 19,
   "id": "97a33388",
   "metadata": {},
   "outputs": [
    {
     "name": "stdout",
     "output_type": "stream",
     "text": [
      "닉네임을 입력해 주세요 --> 꽃미남 상호선생님\n",
      "이상호 선생님 안녕하세요\n"
     ]
    }
   ],
   "source": [
    "input('닉네임을 입력해 주세요 -->')\n",
    "print('이상호 선생님 안녕하세요')"
   ]
  }
 ],
 "metadata": {
  "kernelspec": {
   "display_name": "Python 3 (ipykernel)",
   "language": "python",
   "name": "python3"
  },
  "language_info": {
   "codemirror_mode": {
    "name": "ipython",
    "version": 3
   },
   "file_extension": ".py",
   "mimetype": "text/x-python",
   "name": "python",
   "nbconvert_exporter": "python",
   "pygments_lexer": "ipython3",
   "version": "3.9.7"
  }
 },
 "nbformat": 4,
 "nbformat_minor": 5
}
