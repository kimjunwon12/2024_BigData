{
 "cells": [
  {
   "cell_type": "code",
   "execution_count": 1,
   "id": "108dc1e7",
   "metadata": {},
   "outputs": [
    {
     "ename": "SyntaxError",
     "evalue": "expected ':' (563093921.py, line 3)",
     "output_type": "error",
     "traceback": [
      "\u001b[1;36m  Cell \u001b[1;32mIn[1], line 3\u001b[1;36m\u001b[0m\n\u001b[1;33m    def sove(key,value);\u001b[0m\n\u001b[1;37m                       ^\u001b[0m\n\u001b[1;31mSyntaxError\u001b[0m\u001b[1;31m:\u001b[0m expected ':'\n"
     ]
    }
   ],
   "source": [
    "import shelve\n",
    "\n",
    "def sove(key,value);\n",
    "    with shelve.open('shelve.dat')as d;\n",
    "        d[key] = value\n",
    "        \n",
    "def get(key);\n",
    "    with shelve.open('shelve.dat') as d;\n",
    "        return d[key]\n",
    "    \n",
    "save('number'.[1,2,3,4,5])\n",
    "print(get('number')) # [1,2,3,4,5]"
   ]
  },
  {
   "cell_type": "code",
   "execution_count": 19,
   "id": "c3631dcd",
   "metadata": {},
   "outputs": [
    {
     "name": "stdout",
     "output_type": "stream",
     "text": [
      "|n1. 학생 정보 추가\n",
      "2. 학생 정보 검색\n",
      "3. 종료\n",
      "선택하세요: 1\n",
      "학생 번호를 입력하세요: 2\n",
      "학생 이름을 입력하세요: 김준원\n",
      "학생 나이를 입력하세요: 19\n",
      "학생 전공을 입력하세요: 코딩\n",
      "|n1. 학생 정보 추가\n",
      "2. 학생 정보 검색\n",
      "3. 종료\n",
      "선택하세요: 2\n",
      "검색할 학생 번호를 입력하세요: 2\n",
      "학생 번호: 2, 이름: 김준원, 나이:19,전공:코딩\n",
      "|n1. 학생 정보 추가\n",
      "2. 학생 정보 검색\n",
      "3. 종료\n",
      "선택하세요: 2\n",
      "검색할 학생 번호를 입력하세요: 1\n",
      "해당하는 학생의 정보를 찾을 수 없습니다\n",
      "|n1. 학생 정보 추가\n",
      "2. 학생 정보 검색\n",
      "3. 종료\n",
      "선택하세요: 2\n",
      "검색할 학생 번호를 입력하세요: 2\n",
      "학생 번호: 2, 이름: 김준원, 나이:19,전공:코딩\n",
      "|n1. 학생 정보 추가\n",
      "2. 학생 정보 검색\n",
      "3. 종료\n",
      "선택하세요: 3\n"
     ]
    }
   ],
   "source": [
    "import shelve\n",
    "def add_student_info(student_dict):\n",
    "    student_number = input(\"학생 번호를 입력하세요: \")\n",
    "    name = input(\"학생 이름을 입력하세요: \")\n",
    "    age = input(\"학생 나이를 입력하세요: \")\n",
    "    major = input(\"학생 전공을 입력하세요: \")\n",
    "\n",
    "    student_dict[student_number]={'name':name,'age':age,'major':major}\n",
    "def search_student_info(student_dict):\n",
    "    student_number = input(\"검색할 학생 번호를 입력하세요: \")\n",
    "    if student_number in student_dict:\n",
    "        info = student_dict[student_number]\n",
    "        print(f\"학생 번호: {student_number}, 이름: {info['name']}, 나이:{info['age']},전공:{info['major']}\")\n",
    "    else:\n",
    "            print(\"해당하는 학생의 정보를 찾을 수 없습니다\")\n",
    "            \n",
    "def main():\n",
    "        with shelve.open('student_data') as shelf:\n",
    "            if 'students' not in shelf:\n",
    "                shelf['students'] = {}\n",
    "            student_dict=shelf['students']\n",
    "            while True:\n",
    "                print(\"|n1. 학생 정보 추가\")\n",
    "                print(\"2. 학생 정보 검색\")\n",
    "                print(\"3. 종료\")\n",
    "                \n",
    "                choice = input(\"선택하세요: \")\n",
    "                \n",
    "                if choice == '1':\n",
    "                    add_student_info(student_dict)\n",
    "                elif choice == '2':\n",
    "                    search_student_info(student_dict)\n",
    "                elif choice == '3':\n",
    "                    break\n",
    "                else:\n",
    "                    print(\"올바른 선택이 아닙니다. 다시 선택해 주세요.\")\n",
    "            shelf['students'] = student_dict\n",
    "\n",
    "if __name__ ==\"__main__\":\n",
    "    main()"
   ]
  },
  {
   "cell_type": "code",
   "execution_count": null,
   "id": "8780fa5f",
   "metadata": {},
   "outputs": [],
   "source": []
  }
 ],
 "metadata": {
  "kernelspec": {
   "display_name": "Python 3 (ipykernel)",
   "language": "python",
   "name": "python3"
  },
  "language_info": {
   "codemirror_mode": {
    "name": "ipython",
    "version": 3
   },
   "file_extension": ".py",
   "mimetype": "text/x-python",
   "name": "python",
   "nbconvert_exporter": "python",
   "pygments_lexer": "ipython3",
   "version": "3.10.9"
  }
 },
 "nbformat": 4,
 "nbformat_minor": 5
}
