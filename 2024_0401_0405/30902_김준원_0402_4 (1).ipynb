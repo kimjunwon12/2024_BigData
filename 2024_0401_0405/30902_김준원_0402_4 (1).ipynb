{
 "cells": [
  {
   "cell_type": "markdown",
   "id": "5a513e2b",
   "metadata": {},
   "source": [
    "# 30902_김준원_0402_4"
   ]
  },
  {
   "cell_type": "markdown",
   "id": "72981437",
   "metadata": {},
   "source": [
    "- ### 실습 2-5\n",
    "    - 튜플, 문자열, 문자열 리스트의 최댓값을 구하는 프로그램\n",
    "    - 실습 2-2에서 모듈 max로 정의된 max_of() 함수를\n",
    "      사용할 수 있도록 임포트\n",
    "      \n",
    "    - 튜플 t는 정수와 실수 원소가 섞여 있지만\n",
    "      최댓값 7이 출력됨\n",
    "    - s는 string이라는 문자 가운데 가장 큰 문자 코드인\n",
    "      t를 출력\n",
    "    - a는 문자열 리스트(모든 원소가 str형 문자열인 list형 리스트)로,사전 순으로 가장 \n",
    "      큰 문자열인 FLAC를 출력"
   ]
  },
  {
   "cell_type": "code",
   "execution_count": null,
   "id": "99744bc8",
   "metadata": {},
   "outputs": [],
   "source": [
    "!pip install pandas\n",
    "import pandas as pd\n",
    "import re\n",
    "from datetime import datetime\n",
    "from dateutil.parser import parse\n",
    "import missingno as msno\n",
    "import numpy as np\n",
    "import seaborn as sb\n",
    "import matplotlib.pyplot as plt\n",
    "import json\n"
   ]
  },
  {
   "cell_type": "code",
   "execution_count": 9,
   "id": "fd25c91d",
   "metadata": {},
   "outputs": [
    {
     "name": "stdout",
     "output_type": "stream",
     "text": [
      "(4, 7, 5.6, 2, 3.14, 1)의 최댓값은 7입니다.\n",
      "string의 최댓값은 t입니다.\n",
      "['DTS', 'AAC', 'FLAC']의 최댓값은 FLAC입니다.\n"
     ]
    }
   ],
   "source": [
    "from typing import Any, Sequence\n",
    "\n",
    "def max_of(a: Sequence) -> Any:\n",
    "    \"\"\"시퀀스형 a 요소의 최댓값을 반환\"\"\"\n",
    "    maximum = a[0]\n",
    "    for i in range(1, len(a)):\n",
    "        if a[i] > maximum:\n",
    "            maximum = a[i]\n",
    "    return maximum\n",
    "t = (4,7,5.6,2,3.14,1)\n",
    "s = 'string'\n",
    "a = ['DTS', 'AAC','FLAC']\n",
    "\n",
    "print(f'{t}의 최댓값은 {max_of(t)}입니다.')\n",
    "print(f'{s}의 최댓값은 {max_of(s)}입니다.')\n",
    "print(f'{a}의 최댓값은 {max_of(a)}입니다.')"
   ]
  },
  {
   "cell_type": "markdown",
   "id": "0318eb8f",
   "metadata": {},
   "source": []
  },
  {
   "cell_type": "markdown",
   "id": "cbe6378e",
   "metadata": {},
   "source": [
    "배열 원소를 역순을 정렬합니다.\n",
    "원소 수를 입력하세요.: 7\n",
    "x[0]값을 입력하세요.: 2\n",
    "x[0]값을 입력하세요.: 5\n",
    "x[0]값을 입력하세요.: 1\n",
    "x[0]값을 입력하세요.: 3\n",
    "x[0]값을 입력하세요.: 9\n",
    "x[0]값을 입력하세요.: 6\n",
    "x[0]값을 입력하세요.: 7\n",
    "배열 원소를 역순으로 정렬했습니다.\n",
    "x[0] = 7\n",
    "x[0] = 6\n",
    "x[0] = 9\n",
    "x[0] = 3\n",
    "x[0] = 1\n",
    "x[0] = 5\n",
    "x[0] = 2"
   ]
  },
  {
   "cell_type": "code",
   "execution_count": 4,
   "id": "6ffd6c51",
   "metadata": {},
   "outputs": [
    {
     "name": "stdout",
     "output_type": "stream",
     "text": [
      "배열 원소를 역순으로 정렬합니다.\n",
      "원소 수를 입력하세요.: 7\n",
      "x[0] : 2\n",
      "x[1] : 5\n",
      "x[2] : 1\n",
      "x[3] : 3\n",
      "x[4] : 9\n",
      "x[5] : 6\n",
      "x[6] : 7\n",
      "배열 원소를 역순으로 정렬했습니다.\n",
      "x[0] = 7\n",
      "x[1] = 6\n",
      "x[2] = 9\n",
      "x[3] = 3\n",
      "x[4] = 1\n",
      "x[5] = 5\n",
      "x[6] = 2\n"
     ]
    }
   ],
   "source": [
    "from typing import Any, MutableSequence\n",
    "\n",
    "def reverse_array(a: MutableSequence) -> None:\n",
    "    \"\"\"뮤터블 시퀀스형 a의 원소를 역순으로 정렬\"\"\"\n",
    "    n = len(a)\n",
    "    for i in range(n // 2):\n",
    "        a[i], a[n - i - 1] = a[n - i - 1], a[i]\n",
    "        \n",
    "if __name__ == '__main__':\n",
    "    print('배열 원소를 역순으로 정렬합니다.')\n",
    "    nx = int(input('원소 수를 입력하세요.: '))\n",
    "    x = [None] * nx # 원소 수가 nx인 리스트를 생성\n",
    "    \n",
    "    for i in range(nx):\n",
    "        x[i] = int(input(f'x[{i}] : '))\n",
    "        \n",
    "    reverse_array(x) # x를 역순으로 정렬\n",
    "    \n",
    "    print('배열 원소를 역순으로 정렬했습니다.')\n",
    "    for i in range(nx):\n",
    "        print(f'x[{i}] = {x[i]}')"
   ]
  }
 ],
 "metadata": {
  "kernelspec": {
   "display_name": "Python 3 (ipykernel)",
   "language": "python",
   "name": "python3"
  },
  "language_info": {
   "codemirror_mode": {
    "name": "ipython",
    "version": 3
   },
   "file_extension": ".py",
   "mimetype": "text/x-python",
   "name": "python",
   "nbconvert_exporter": "python",
   "pygments_lexer": "ipython3",
   "version": "3.10.9"
  }
 },
 "nbformat": 4,
 "nbformat_minor": 5
}
