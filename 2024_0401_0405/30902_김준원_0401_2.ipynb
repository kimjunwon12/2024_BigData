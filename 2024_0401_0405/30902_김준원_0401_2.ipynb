{
 "cells": [
  {
   "cell_type": "markdown",
   "id": "d5c5fa94",
   "metadata": {},
   "source": [
    "본 문제는 python 의 빠른 기초 학습을 위해 설계된 문제로서 python 코드 제출을 기준으로 설명되어 있습니다. \n",
    "------\n",
    "\n",
    "3개의 정수(a, b, c)가 입력되었을 때, 짝수만 출력해보자.\n",
    "\n",
    "예시\n",
    "a, b, c = input().split()\n",
    "\n",
    "a = int(a)\n",
    "b = int(b)\n",
    "c = int(c)\n",
    "\n",
    "if a%2==0 :  #논리적으로 한 단위로 처리해야하는 경우 콜론(:)을 찍고, 들여쓰기로 작성 한다.\n",
    "  print(a)\n",
    "\n",
    "if b%2==0 :\n",
    "  print(b) \n",
    "\n",
    "if c%2==0 :\n",
    "  print(c) \n",
    "\n",
    "참고 \n",
    "if 조건식 :\n",
    "  실행1  #조건식의 평가값이 True 인 경우 실행시킬 명령을 들여쓰기를 이용해 순서대로 작성한다.\n",
    "  실행2\n",
    "실행3  #들여쓰기를 하지 않은 부분은 조건식에 상관이 없음 \n",
    "\n",
    "python 에서는 논리적 실행단위인 코드블록(code block)을 표현하기 위해 들여쓰기를 사용한다.\n",
    "들여쓰기 방법은 탭(tab), 공백(space) 4개 등 여러 가지 방법을 사용할 수 있지만\n",
    "한 소스코드 내에서 들여쓰기 길이와 방법은 똑같아야 한다.\n",
    "\n",
    "a%2==0 은 (a%2)가 먼저 계산된 후 그 결과를 정수 0과 비교한 결과값이다.\n",
    "a를 2로 나눈 나머지가 0, 즉 짝수이면 True 가 되고, 아니면 False 로 계산된다.\n",
    "따라서,\n",
    "if a%2==0 : #a가 짝수라면 ... \n",
    "와 같은 의미가 된다. 짝수가 아니라면 들여쓰기로 작성된 부분들은 실행되지 않는다.\n"
   ]
  },
  {
   "cell_type": "code",
   "execution_count": 1,
   "id": "81c5dc2d",
   "metadata": {},
   "outputs": [
    {
     "name": "stdout",
     "output_type": "stream",
     "text": [
      "1 2 4\n",
      "2\n",
      "4\n"
     ]
    }
   ],
   "source": [
    "nums = list(map(int, input().split()))\n",
    "\n",
    "for n in nums:\n",
    "    if not n % 2:\n",
    "        print(n)"
   ]
  },
  {
   "cell_type": "markdown",
   "id": "d392a8f7",
   "metadata": {},
   "source": [
    "본 문제는 python 의 빠른 기초 학습을 위해 설계된 문제로서 python 코드 제출을 기준으로 설명되어 있습니다. \n",
    "------\n",
    "\n",
    "3개의 정수(a, b, c)가 입력되었을 때, 짝(even)/홀(odd)을 출력해보자.\n",
    "\n",
    "예시\n",
    "...\n",
    "if a%2==0 :\n",
    "  print(\"even\")\n",
    "else :\n",
    "  print(\"odd\") \n",
    "...\n",
    "\n",
    "참고 \n",
    "if 조건식 :  #조건식을 평가해서...\n",
    "  실행1      #True 인 경우 실행시킬 명령들...\n",
    "  실행2\n",
    "else :        \n",
    "  실행3      #False 인 경우 실행시킬 명령들...\n",
    "  실행4\n",
    "실행5       #조건식과 상관없는 다음 명령\n",
    "...\n",
    "\n",
    "else 는 if 없이 혼자 사용되지 않는다.\n",
    "또한, else 다음에는 조건식이 없는 이유는? True(참)가 아니면 False(거짓)이기 때문에... \n",
    "조건식의 평가 결과는 True 아니면 False 로 계산되기 때문이다.\n",
    "\n",
    "python 에서는 들여쓰기를 기준으로 코드블록을 구분하므로, 들여쓰기를 정확하게 해주어야 한다.\n"
   ]
  },
  {
   "cell_type": "code",
   "execution_count": 2,
   "id": "64837e14",
   "metadata": {},
   "outputs": [
    {
     "name": "stdout",
     "output_type": "stream",
     "text": [
      "1 2 8\n",
      "odd\n",
      "even\n",
      "even\n"
     ]
    }
   ],
   "source": [
    "nums = list(map(int, input().split()))\n",
    "\n",
    "for n in nums:\n",
    "    print(\"odd\" if n % 2 else \"even\")"
   ]
  },
  {
   "cell_type": "markdown",
   "id": "de3ae091",
   "metadata": {},
   "source": [
    "본 문제는 python 의 빠른 기초 학습을 위해 설계된 문제로서 python 코드 제출을 기준으로 설명되어 있습니다. \n",
    "------\n",
    "\n",
    "0이 아닌 정수 1개가 입력되었을 때, 음(-)/양(+)과 짝(even)/홀(odd)을 구분해 분류해보자.\n",
    "음수이면서 짝수이면, A\n",
    "음수이면서 홀수이면, B\n",
    "양수이면서 짝수이면, C\n",
    "양수이면서 홀수이면, D\n",
    "를 출력한다.\n",
    "\n",
    "예시\n",
    "...\n",
    "if n<0 :\n",
    "  if n%2==0 :\n",
    "    print('A')      #주의 : 변수 A와 문자열 'A' / \"A\" 는 의미가 완전히 다르다. \n",
    "  else :\n",
    "    print('B')\n",
    "else :\n",
    "  if n%2==0 :\n",
    "    print('C')\n",
    "  else :\n",
    "    print('D')\n",
    "...\n",
    "\n",
    "참고\n",
    "조건/선택 실행구조 안에 다시 조건/선택 실행구조를 \"중첩\"할 수가 있다.\n",
    "\n",
    "또한, 중첩된 조건은\n",
    "...\n",
    "if (n<0) and (n%2==0) :\n",
    "    print('A')\n",
    "...\n",
    "와 같이 논리연산자(not, and, or)를 이용해 합쳐 표현할 수도 있다.\n",
    "비교연산(<, >, <=, >=, ==, !=) 의 계산 결과는 True 또는 False 의 불(boolean) 값이고,\n",
    "불 값들 사이의 논리연산(not, and, or)의 결과도 True 또는 False 의 불 값이다.\n"
   ]
  },
  {
   "cell_type": "code",
   "execution_count": 4,
   "id": "33fd3518",
   "metadata": {},
   "outputs": [
    {
     "name": "stdout",
     "output_type": "stream",
     "text": [
      "-2147483648\n",
      "A\n"
     ]
    }
   ],
   "source": [
    "n = int(input())\n",
    "\n",
    "if n < 0:\n",
    "    if n % 2:\n",
    "        print(\"B\")\n",
    "    else:\n",
    "        print(\"A\")\n",
    "else:\n",
    "    if n % 2:\n",
    "        print(\"D\")\n",
    "    else:\n",
    "        print(\"C\")"
   ]
  },
  {
   "cell_type": "markdown",
   "id": "53371677",
   "metadata": {},
   "source": [
    "본 문제는 python 의 빠른 기초 학습을 위해 설계된 문제로서 python 코드 제출을 기준으로 설명되어 있습니다. \n",
    "------\n",
    "\n",
    "점수(정수, 0 ~ 100)를 입력받아 평가를 출력해보자.\n",
    "\n",
    "평가 기준\n",
    "점수 범위 : 평가\n",
    " 90 ~ 100 : A\n",
    " 70 ~   89 : B\n",
    " 40 ~   69 : C\n",
    "   0 ~   39 : D\n",
    "로 평가되어야 한다.\n",
    "\n",
    "예시\n",
    "...\n",
    "if n>=90 :\n",
    "  print('A')\n",
    "else :\n",
    "  if n>=70 :\n",
    "    print('B')\n",
    "  else :\n",
    "    if n>=40 :\n",
    "      print('C')\n",
    "    else :\n",
    "      print('D') \n",
    "...\n",
    "\n",
    "참고\n",
    "여러 조건들을 순서대로 비교하면서 처리하기 위해서 조건문을 여러 번 중첩할 수 있다.\n",
    "\n",
    "if 조건식1 :\n",
    "  ...\n",
    "else :\n",
    "  if 조건식2 :\n",
    "    ...\n",
    "  else :\n",
    "    if 조건식3 :\n",
    "      ...\n",
    "    else :\n",
    "      ...\n",
    "...\n",
    "와 같이 조건/선택 실행 구조를 겹쳐 작성하면 순서대로 조건을 검사할 수 있다.\n",
    "어떤 조건이 참이면 그 부분의 내용을 실행하고 전체 조건/선택 구조를 빠져나가게 된다.\n",
    "\n",
    "if 조건식1 : \n",
    "  ... \n",
    "elif 조건식2 : \n",
    "  ... \n",
    "elif 조건식3 : \n",
    "  ... \n",
    "else : \n",
    "  ...\n",
    "도 똑같은 기능을 한다. elif는 else if 의 짧은 약어라고 생각해도 된다.\n",
    "elif 를 사용하면 if ... else ... 구조를 겹쳐 사용할 때처럼, 여러 번 안 쪽으로 들여쓰기 하지 않아도 된다.\n"
   ]
  },
  {
   "cell_type": "code",
   "execution_count": 6,
   "id": "ecf191cf",
   "metadata": {},
   "outputs": [
    {
     "name": "stdout",
     "output_type": "stream",
     "text": [
      "73\n",
      "B\n"
     ]
    }
   ],
   "source": [
    "n = int(input())\n",
    "\n",
    "if n >= 90:\n",
    "    print(\"A\")\n",
    "elif n >= 70:\n",
    "    print(\"B\")\n",
    "elif n >= 40:\n",
    "    print(\"C\")\n",
    "else:\n",
    "    print(\"D\")"
   ]
  },
  {
   "cell_type": "markdown",
   "id": "4fa0f70a",
   "metadata": {},
   "source": [
    "본 문제는 python 의 빠른 기초 학습을 위해 설계된 문제로서 python 코드 제출을 기준으로 설명되어 있습니다. \n",
    "------\n",
    "\n",
    "평가를 문자(A, B, C, D, ...)로 입력받아 내용을 다르게 출력해보자.\n",
    "\n",
    "평가 내용\n",
    "평가 : 내용\n",
    "A : best!!!\n",
    "B : good!!\n",
    "C : run!\n",
    "D : slowly~\n",
    "나머지 문자들 : what?\n"
   ]
  },
  {
   "cell_type": "code",
   "execution_count": 7,
   "id": "28a488d9",
   "metadata": {},
   "outputs": [
    {
     "name": "stdout",
     "output_type": "stream",
     "text": [
      "A\n",
      "best!!!\n"
     ]
    }
   ],
   "source": [
    "c = input()\n",
    "\n",
    "if c == \"A\":\n",
    "    print(\"best!!!\")\n",
    "elif c == \"B\":\n",
    "    print(\"good!!\")\n",
    "elif c == \"C\":\n",
    "    print(\"run!\")\n",
    "elif c == \"D\":\n",
    "    print(\"slowly~\")\n",
    "else:\n",
    "    print(\"what?\")\n",
    "    "
   ]
  }
 ],
 "metadata": {
  "kernelspec": {
   "display_name": "Python 3 (ipykernel)",
   "language": "python",
   "name": "python3"
  },
  "language_info": {
   "codemirror_mode": {
    "name": "ipython",
    "version": 3
   },
   "file_extension": ".py",
   "mimetype": "text/x-python",
   "name": "python",
   "nbconvert_exporter": "python",
   "pygments_lexer": "ipython3",
   "version": "3.9.7"
  }
 },
 "nbformat": 4,
 "nbformat_minor": 5
}
