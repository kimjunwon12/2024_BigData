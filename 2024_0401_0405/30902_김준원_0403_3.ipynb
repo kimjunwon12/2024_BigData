{
 "cells": [
  {
   "cell_type": "markdown",
   "id": "eb1d27a9",
   "metadata": {},
   "source": [
    "본 문제는 python 의 빠른 기초 학습을 위해 설계된 문제로서 python 코드 제출을 기준으로 설명되어 있습니다. \n",
    "------\n",
    "\n",
    "월이 입력될 때 계절 이름이 출력되도록 해보자.\n",
    "\n",
    "월 : 계절 이름\n",
    "12, 1, 2 : winter\n",
    "  3, 4, 5 : spring\n",
    "  6, 7, 8 : summer\n",
    "  9, 10, 11 : fall\n",
    "\n",
    "예시\n",
    "...\n",
    "if n//3==1 :\n",
    "  print(\"spring\")\n",
    "...\n",
    "\n",
    "참고\n",
    "때때로 수들의 특징을 관찰하고 이용하면 매우 간단히 해결할 수도 있다."
   ]
  },
  {
   "cell_type": "code",
   "execution_count": 1,
   "id": "37411590",
   "metadata": {},
   "outputs": [
    {
     "name": "stdout",
     "output_type": "stream",
     "text": [
      "12\n",
      "winter\n"
     ]
    }
   ],
   "source": [
    "n = int(input())\n",
    "\n",
    "if n in (12, 1, 2):\n",
    "    print(\"winter\")\n",
    "elif n in (3, 4, 5):\n",
    "    print(\"spring\")\n",
    "elif n in (6, 7, 8):\n",
    "    print(\"summer\")\n",
    "else:\n",
    "    print(\"fall\")"
   ]
  },
  {
   "cell_type": "markdown",
   "id": "4ee96345",
   "metadata": {},
   "source": [
    "본 문제는 python 의 빠른 기초 학습을 위해 설계된 문제로서 python 코드 제출을 기준으로 설명되어 있습니다. \n",
    "------\n",
    "\n",
    "임의의 정수가 줄을 바꿔 계속 입력된다.\n",
    "-2147483648 ~ +2147483647, 단 개수는 알 수 없다.\n",
    "\n",
    "0이 아니면 입력된 정수를 출력하고, 0이 입력되면 출력을 중단해보자.\n",
    "\n",
    "예시\n",
    "...\n",
    "n = 1      #처음 조건 검사를 통과하기 위해 0 아닌 값을 임의로 저장\n",
    "while n!=0 :\n",
    "  n = int(input())\n",
    "  if n!=0 :\n",
    "    print(n)\n",
    "...\n",
    "\n",
    "참고\n",
    "if 조건식 :\n",
    "  ...\n",
    "  ...\n",
    "\n",
    "\n",
    "구조를 사용하면,\n",
    "주어진 조건식의 평가 결과가 True 인 경우에만, 들여쓰기로 구분된 코드블록이 실행된다.\n",
    "\n",
    "if 를 while 로 바꾸면?\n",
    "\n",
    "while 조건식 :\n",
    "  ...\n",
    "  ...\n",
    "\n",
    "와 같은 방법으로 반복해서 실행시킬 수 있다.\n",
    "\n",
    "실행되는 과정은\n",
    "1. 조건식을 평가한다.\n",
    "2. True 인 경우 코드블록을 실행한다.\n",
    "3. 다시 조건식을 평가한다.\n",
    "4. True 인 경우 코드블록을 실행한다.\n",
    "...\n",
    "... 조건식의 평가 값이 False 인 경우 반복을 중단하고, 그 다음 명령을 실행한다.\n",
    "\n",
    "조건식의 평가 결과가 True 동안만 반복 실행된다. \n",
    "\n",
    "반복실행구조 안에 다른 조건/선택실행구조를 넣을 수도 있고...\n",
    "조건/선택실행구조 안에 다른 반복실행구조를 넣을 수도 있다."
   ]
  },
  {
   "cell_type": "code",
   "execution_count": 6,
   "id": "7d439c35",
   "metadata": {},
   "outputs": [
    {
     "name": "stdout",
     "output_type": "stream",
     "text": [
      "7\n",
      "7\n",
      "4\n",
      "4\n",
      "2\n",
      "2\n",
      "3\n",
      "3\n",
      "0\n"
     ]
    }
   ],
   "source": [
    "while(True):\n",
    "    n = int(input())\n",
    "    if not n:\n",
    "        break\n",
    "    print(n)"
   ]
  },
  {
   "cell_type": "markdown",
   "id": "cc71ecfa",
   "metadata": {},
   "source": [
    "본 문제는 python 의 빠른 기초 학습을 위해 설계된 문제로서 python 코드 제출을 기준으로 설명되어 있습니다. \n",
    "------\n",
    "\n",
    "정수(1 ~ 100) 1개가 입력되었을 때 카운트다운을 출력해보자.\n",
    "\n",
    "while 조건식 :\n",
    "  ...\n",
    "  ...\n",
    "반복 실행구조를 사용해 보자.\n",
    "\n",
    "예시\n",
    "...\n",
    "while n!=0 :\n",
    "  print(n)\n",
    "  n = n-1\n",
    "...\n",
    "\n",
    "참고\n",
    "n = n-1  #n에 저장되어있던 값에서 1만큼 뺀 후, 그 값을 다시 n에 저장시킨다.\n",
    "n -= 1 과 같이 짧게 작성할 수도 있다. n -= 1 은 n = n-1 과 같은 의미이다.\n",
    "이렇게 산술연산자(+, -, *, / ... )와 대입 연산자(=)를 함께 쓰는 것을 복합대입연산자라고도 부른다.\n",
    "같은 방법으로 +=, *=, /=, //=, %=, &=, |=, ^=, >>=, <<=, **= 등과 같이 짧게 작성할 수 있다.\n",
    "\n",
    "처음에 조건식을 검사하고, 그 다음에 실행하고, 그 다음에 값을 바꾸고...\n",
    "다시 조건식을 검사하고, 실행하고, 값을 바꾸고...\n"
   ]
  },
  {
   "cell_type": "code",
   "execution_count": 9,
   "id": "8ec1eb9c",
   "metadata": {},
   "outputs": [
    {
     "name": "stdout",
     "output_type": "stream",
     "text": [
      "5\n",
      "5\n",
      "4\n",
      "3\n",
      "2\n",
      "1\n"
     ]
    }
   ],
   "source": [
    "n = int(input())\n",
    "\n",
    "while n > 0:\n",
    "    print(n)\n",
    "    n -= 1"
   ]
  },
  {
   "cell_type": "markdown",
   "id": "8a2e0f2e",
   "metadata": {},
   "source": [
    "본 문제는 python 의 빠른 기초 학습을 위해 설계된 문제로서 python 코드 제출을 기준으로 설명되어 있습니다. \n",
    "------\n",
    "\n",
    "정수(1 ~ 100) 1개가 입력되었을 때 카운트다운을 출력해보자.\n",
    "\n",
    "while 조건식 :\n",
    "  ...\n",
    "  ...\n",
    "\n",
    "반복 실행구조를 사용해 보자.\n",
    "\n",
    "참고\n",
    "조건검사, 출력, 감소의 순서와 타이밍을 잘 생각해보자."
   ]
  },
  {
   "cell_type": "code",
   "execution_count": 10,
   "id": "0dce9547",
   "metadata": {},
   "outputs": [
    {
     "name": "stdout",
     "output_type": "stream",
     "text": [
      "5\n",
      "4\n",
      "3\n",
      "2\n",
      "1\n",
      "0\n"
     ]
    }
   ],
   "source": [
    "n = int(input())\n",
    "\n",
    "while n > 0:\n",
    "    n -= 1\n",
    "    print(n)"
   ]
  },
  {
   "cell_type": "markdown",
   "id": "c2cb9600",
   "metadata": {},
   "source": [
    "본 문제는 python 의 빠른 기초 학습을 위해 설계된 문제로서 python 코드 제출을 기준으로 설명되어 있습니다. \n",
    "------\n",
    "\n",
    "영문 소문자(a ~ z) 1개가 입력되었을 때,\n",
    "a부터 그 문자까지의 알파벳을 순서대로 출력해보자.\n",
    "\n",
    "예시\n",
    "c = ord(input())\n",
    "t = ord('a')\n",
    "while t<=c :\n",
    "  print(chr(t), end=' ')\n",
    "  t += 1\n",
    "\n",
    "참고\n",
    "알파벳 문자 a의 정수값은 ord('a')로 알아낼 수 있다.\n",
    "chr(정수값)을 이용하면 유니코드 문자로 출력할 수 있다.\n",
    "print(..., end=' ') 와 같이 작성하면 값 출력 후 공백문자 ' '를 출력한다. 즉, 마지막에 줄을 바꾸지 않고 빈칸만 띄운다.\n",
    "(end='\\n'로 작성하거나 생략하면, 값을 출력한 후 마지막(end)에 줄바꿈(newline)이 된다.)"
   ]
  },
  {
   "cell_type": "code",
   "execution_count": 12,
   "id": "61c757f2",
   "metadata": {},
   "outputs": [
    {
     "name": "stdout",
     "output_type": "stream",
     "text": [
      "1\n"
     ]
    }
   ],
   "source": [
    "n = int(ord(input()))\n",
    "\n",
    "for i in range(97, n+1):\n",
    "    print(chr(i), end=\" \")"
   ]
  },
  {
   "cell_type": "code",
   "execution_count": null,
   "id": "d32c1c86",
   "metadata": {},
   "outputs": [],
   "source": []
  }
 ],
 "metadata": {
  "kernelspec": {
   "display_name": "Python 3 (ipykernel)",
   "language": "python",
   "name": "python3"
  },
  "language_info": {
   "codemirror_mode": {
    "name": "ipython",
    "version": 3
   },
   "file_extension": ".py",
   "mimetype": "text/x-python",
   "name": "python",
   "nbconvert_exporter": "python",
   "pygments_lexer": "ipython3",
   "version": "3.10.9"
  }
 },
 "nbformat": 4,
 "nbformat_minor": 5
}
