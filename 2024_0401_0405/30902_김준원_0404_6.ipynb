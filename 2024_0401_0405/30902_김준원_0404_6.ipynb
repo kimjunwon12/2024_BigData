{
 "cells": [
  {
   "cell_type": "markdown",
   "id": "612ca738",
   "metadata": {},
   "source": [
    "## 30902_김준원_0404_6"
   ]
  },
  {
   "cell_type": "markdown",
   "id": "1936e4e2",
   "metadata": {},
   "source": [
    "## 리스트와 튜플 알아보기\n",
    "- 리스트와 튜플 풀어내기\n",
    "    - 좌변에는 여러개의 변수를 놓고 우변에는 리스트나 튜플을 놓으면 우변의 원소를 좌변의 변수에 한번에 대입가능\n",
    "    - 언팩 unpack\n",
    "        - 리스트나 튜플의 원숫값들을 풀어 여러 변수에 대입\n",
    "        \n",
    "        \n",
    "- 슬라이스 slice\n",
    "    - 리스트나 튜플의 원소 일부를 연속해서또는 일정한 간격으로 꺼내 새로운 리스트나 튜플을 만드는것\n",
    "    - s[i:j] s[i]부터 [j-1]까지 나열\n",
    "    - s[i:j:k] i부터 j-1까지  k만큼 건너뛰며 나열"
   ]
  },
  {
   "cell_type": "code",
   "execution_count": 4,
   "id": "d4f6fed8",
   "metadata": {},
   "outputs": [
    {
     "data": {
      "text/plain": [
       "[1, 2, 3]"
      ]
     },
     "execution_count": 4,
     "metadata": {},
     "output_type": "execute_result"
    }
   ],
   "source": [
    "x = [1,2,3]\n",
    "x"
   ]
  },
  {
   "cell_type": "code",
   "execution_count": 6,
   "id": "d599166b",
   "metadata": {},
   "outputs": [
    {
     "data": {
      "text/plain": [
       "list"
      ]
     },
     "execution_count": 6,
     "metadata": {},
     "output_type": "execute_result"
    }
   ],
   "source": [
    "type(x)"
   ]
  },
  {
   "cell_type": "code",
   "execution_count": 8,
   "id": "a3d9cf55",
   "metadata": {},
   "outputs": [],
   "source": [
    "a,b,c = x"
   ]
  },
  {
   "cell_type": "code",
   "execution_count": 10,
   "id": "faeca644",
   "metadata": {},
   "outputs": [
    {
     "data": {
      "text/plain": [
       "(1, 2, 3)"
      ]
     },
     "execution_count": 10,
     "metadata": {},
     "output_type": "execute_result"
    }
   ],
   "source": [
    "a,b,c"
   ]
  },
  {
   "cell_type": "code",
   "execution_count": 17,
   "id": "233bae0e",
   "metadata": {},
   "outputs": [
    {
     "data": {
      "text/plain": [
       "[11, 22, 33, 44, 55, 66]"
      ]
     },
     "execution_count": 17,
     "metadata": {},
     "output_type": "execute_result"
    }
   ],
   "source": [
    "y = [11,22,33,44,55,66]\n",
    "y\n"
   ]
  },
  {
   "cell_type": "code",
   "execution_count": 19,
   "id": "278463e1",
   "metadata": {},
   "outputs": [
    {
     "data": {
      "text/plain": [
       "[44, 55]"
      ]
     },
     "execution_count": 19,
     "metadata": {},
     "output_type": "execute_result"
    }
   ],
   "source": [
    "y[3:5]"
   ]
  },
  {
   "cell_type": "code",
   "execution_count": 23,
   "id": "4927b426",
   "metadata": {},
   "outputs": [
    {
     "data": {
      "text/plain": [
       "[11, 22, 33, 44]"
      ]
     },
     "execution_count": 23,
     "metadata": {},
     "output_type": "execute_result"
    }
   ],
   "source": [
    "y[:4]"
   ]
  },
  {
   "cell_type": "code",
   "execution_count": 26,
   "id": "144d75b5",
   "metadata": {},
   "outputs": [
    {
     "data": {
      "text/plain": [
       "[44, 55, 66]"
      ]
     },
     "execution_count": 26,
     "metadata": {},
     "output_type": "execute_result"
    }
   ],
   "source": [
    "y[-3:]"
   ]
  },
  {
   "cell_type": "code",
   "execution_count": 28,
   "id": "0efee6bc",
   "metadata": {},
   "outputs": [
    {
     "data": {
      "text/plain": [
       "[11, 33, 55]"
      ]
     },
     "execution_count": 28,
     "metadata": {},
     "output_type": "execute_result"
    }
   ],
   "source": [
    "y[::2]"
   ]
  },
  {
   "cell_type": "code",
   "execution_count": 36,
   "id": "dcb95b64",
   "metadata": {},
   "outputs": [
    {
     "data": {
      "text/plain": [
       "[66, 55, 44, 33, 22, 11]"
      ]
     },
     "execution_count": 36,
     "metadata": {},
     "output_type": "execute_result"
    }
   ],
   "source": [
    "y[::-1]"
   ]
  },
  {
   "cell_type": "code",
   "execution_count": 30,
   "id": "79504bed",
   "metadata": {},
   "outputs": [
    {
     "name": "stdout",
     "output_type": "stream",
     "text": [
      "배열의 최대값을 구합니다.\n",
      "원소 수를 입력하세요.2\n",
      "x[0]값을 입력하세요.: 3\n",
      "x[1]값을 입력하세요.: 1\n",
      "최대값은 3입니다. \n"
     ]
    }
   ],
   "source": [
    "\n",
    "\n",
    "from typing import Any, Sequence\n",
    "\n",
    "def max_of(a: Sequence) -> Any:\n",
    "    maximum = a[0]\n",
    "    for i in range(1, len(a)):\n",
    "        if a[i] > maximum:\n",
    "            maximum = a[i]\n",
    "    return maximum\n",
    "\n",
    "if __name__ == '__main__':\n",
    "    print('배열의 최대값을 구합니다.')\n",
    "    num = int(input('원소 수를 입력하세요.'))\n",
    "    x = [None] * num #원조 수가 num인 리스트를 생성)\n",
    "    \n",
    "    for i in range(num):\n",
    "        x[i] = int(input(f'x[{i}]값을 입력하세요.: '))\n",
    "                \n",
    "    print(f'최대값은 {max_of(x)}입니다. ')"
   ]
  },
  {
   "cell_type": "code",
   "execution_count": null,
   "id": "6c626a3b",
   "metadata": {},
   "outputs": [],
   "source": []
  }
 ],
 "metadata": {
  "kernelspec": {
   "display_name": "Python 3 (ipykernel)",
   "language": "python",
   "name": "python3"
  },
  "language_info": {
   "codemirror_mode": {
    "name": "ipython",
    "version": 3
   },
   "file_extension": ".py",
   "mimetype": "text/x-python",
   "name": "python",
   "nbconvert_exporter": "python",
   "pygments_lexer": "ipython3",
   "version": "3.9.7"
  }
 },
 "nbformat": 4,
 "nbformat_minor": 5
}
