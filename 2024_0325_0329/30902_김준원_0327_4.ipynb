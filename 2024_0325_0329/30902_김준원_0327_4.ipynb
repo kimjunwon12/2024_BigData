{
  "nbformat": 4,
  "nbformat_minor": 0,
  "metadata": {
    "colab": {
      "provenance": []
    },
    "kernelspec": {
      "name": "python3",
      "display_name": "Python 3"
    },
    "language_info": {
      "name": "python"
    }
  },
  "cells": [
    {
      "cell_type": "markdown",
      "source": [
        "## 30902_김준원_0327_4"
      ],
      "metadata": {
        "id": "OwIcSp226hUg"
      }
    },
    {
      "cell_type": "code",
      "source": [
        "print('학생 그룹')"
      ],
      "metadata": {
        "id": "iisvqgjP6ljH"
      },
      "execution_count": null,
      "outputs": []
    },
    {
      "cell_type": "code",
      "source": [
        "# 학생 5명의 시험 점수를 입력받아 합계와 평균을 출력하기\n",
        "#\n",
        "\n",
        "print('학생 그룹 점수의 합계와 평균을 구합니다.')\n",
        "a = int(input('1번 학생의 점수를 입력하세요.: '))\n",
        "b = int(input('2번 학생의 점수를 입력하세요.: '))\n",
        "c = int(input('3번 학생의 점수를 입력하세요.: '))\n",
        "d = int(input('4번 학생의 점수를 입력하세요.: '))\n",
        "e = int(input('5번 학생의 점수를 입력하세요.: '))\n",
        "\n",
        "total = 0\n",
        "total += a\n",
        "total += b\n",
        "total += c\n",
        "total += d\n",
        "total += e\n",
        "print(f'합계는 {total}점입니다.')\n",
        "print(f'평균은 {total / 5}점입니다. '2\n",
        "      )"
      ],
      "metadata": {
        "colab": {
          "base_uri": "https://localhost:8080/"
        },
        "id": "yrqDcOFB6Za3",
        "outputId": "a62f202a-0d16-4f1d-a867-cb7ef411a9eb"
      },
      "execution_count": 6,
      "outputs": [
        {
          "output_type": "stream",
          "name": "stdout",
          "text": [
            "학생 그룹 점수의 합계와 평균을 구합니다.\n",
            "1번 학생의 점수를 입력하세요.: 1\n",
            "2번 학생의 점수를 입력하세요.: 4\n",
            "3번 학생의 점수를 입력하세요.: 3\n",
            "4번 학생의 점수를 입력하세요.: 5\n",
            "5번 학생의 점수를 입력하세요.: 1\n",
            "합계는 14점입니다.\n",
            "평균은 2.8점입니다. \n"
          ]
        }
      ]
    },
    {
      "cell_type": "markdown",
      "source": [
        "- 배열 : 묶음 단위로 값을 저장하는 자료구조\n",
        "    - 원소 : 배열에 저장된 각 객체\n",
        "    - 각 원소는 0,1,------- 순서대로 인덱스(주소)를\n",
        "      부여받음\n",
        "    - 원소의 자료형은 int형 float형 어떤것도 상관없음\n",
        "    - 서로 다른 자료형을 같이 저장할 수 있음\n",
        "    - 배열 원소 자체를 배열에 저장할 수 있음\n"
      ],
      "metadata": {
        "id": "VZWrLiNy9svv"
      }
    },
    {
      "cell_type": "code",
      "source": [
        "# list 선언\n",
        "list01 = [] #반리스트\n",
        "a = [1,2,3,4,5]\n",
        "b = ['A','B','C',]\n",
        "\n",
        "print(a)\n",
        "print(b)\n"
      ],
      "metadata": {
        "colab": {
          "base_uri": "https://localhost:8080/"
        },
        "id": "KCyUG5Ul-1zH",
        "outputId": "5cea9124-333a-48f5-b576-ed7c031a61fe"
      },
      "execution_count": 8,
      "outputs": [
        {
          "output_type": "stream",
          "name": "stdout",
          "text": [
            "[1, 2, 3, 4, 5]\n",
            "['A', 'B', 'C']\n"
          ]
        }
      ]
    },
    {
      "cell_type": "markdown",
      "source": [
        "- 튜플\n",
        "    - 원소에 순서를 매겨 결합한 것으로 원소를\n",
        "      변경할 수 없는 자료형\n",
        "    - ()만 사용하면 빈 튜플 생성"
      ],
      "metadata": {
        "id": "cDxn99UC-9H-"
      }
    },
    {
      "cell_type": "code",
      "source": [
        "tuple01 = ()\n",
        "tuple02 = 1,2,3\n",
        "tuple03 = 'A','B','C'\n",
        "\n",
        "print(tuple01)\n",
        "print(tuple02)\n",
        "print(tuple03)"
      ],
      "metadata": {
        "colab": {
          "base_uri": "https://localhost:8080/"
        },
        "id": "CECDWm04-51X",
        "outputId": "d369ff2d-e914-448a-faff-682a76502b11"
      },
      "execution_count": 9,
      "outputs": [
        {
          "output_type": "stream",
          "name": "stdout",
          "text": [
            "()\n",
            "(1, 2, 3)\n",
            "('A', 'B', 'C')\n"
          ]
        }
      ]
    },
    {
      "cell_type": "code",
      "source": [
        "a = tuple(range(3,100))\n",
        "print(a)"
      ],
      "metadata": {
        "colab": {
          "base_uri": "https://localhost:8080/"
        },
        "id": "q_YbeuHT_yLn",
        "outputId": "89d4ce8d-8ead-4878-b377-0477ce7208f2"
      },
      "execution_count": 10,
      "outputs": [
        {
          "output_type": "stream",
          "name": "stdout",
          "text": [
            "(3, 4, 5, 6, 7, 8, 9, 10, 11, 12, 13, 14, 15, 16, 17, 18, 19, 20, 21, 22, 23, 24, 25, 26, 27, 28, 29, 30, 31, 32, 33, 34, 35, 36, 37, 38, 39, 40, 41, 42, 43, 44, 45, 46, 47, 48, 49, 50, 51, 52, 53, 54, 55, 56, 57, 58, 59, 60, 61, 62, 63, 64, 65, 66, 67, 68, 69, 70, 71, 72, 73, 74, 75, 76, 77, 78, 79, 80, 81, 82, 83, 84, 85, 86, 87, 88, 89, 90, 91, 92, 93, 94, 95, 96, 97, 98, 99)\n"
          ]
        }
      ]
    }
  ]
}