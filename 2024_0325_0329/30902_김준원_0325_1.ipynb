{
 "cells": [
  {
   "cell_type": "markdown",
   "id": "ca499dc7",
   "metadata": {},
   "source": [
    "## 30902_김준원_0325_1"
   ]
  },
  {
   "cell_type": "code",
   "execution_count": 10,
   "id": "e47a8acb",
   "metadata": {},
   "outputs": [
    {
     "name": "stdout",
     "output_type": "stream",
     "text": [
      "1부터 n까지 정수의 합을 구합니다.\n",
      "n값을 입력하세요.:10\n",
      "1부터 10까지 정수의 합은 55입니다.\n"
     ]
    }
   ],
   "source": [
    "print(\"1부터 n까지 정수의 합을 구합니다.\")\n",
    "\n",
    "# n값이 0보다 크면 빠져나간다.\n",
    "while True:\n",
    "    n = int(input('n값을 입력하세요.:'))\n",
    "    if n > 0:\n",
    "        break\n",
    "        \n",
    "#변수 선언 및 초기화        \n",
    "sum = 0\n",
    "i = 1\n",
    "\n",
    "for i in range(1, n+1):\n",
    "    sum += i\n",
    "    i += 1\n",
    "print(f'1부터 {n}까지 정수의 합은 {sum}입니다.')"
   ]
  },
  {
   "cell_type": "markdown",
   "id": "288041a7",
   "metadata": {},
   "source": [
    "- 변의 길이와 넓이가 모두 정수인 직사각형에서 변의 길이\n",
    "  를 구하는 프로그램\n",
    "- 짧은 변과 긴 변의 길이는 구별하지 않음\n",
    "    - 예) 직사각형의 넓이가 32이면\n",
    "        변의 길이를 1 x 32, 2 x 16, 4 x 8만 출력\n"
   ]
  },
  {
   "cell_type": "code",
   "execution_count": 19,
   "id": "15406a00",
   "metadata": {},
   "outputs": [
    {
     "name": "stdout",
     "output_type": "stream",
     "text": [
      "직사각형의 넓이를 입력하세요.: 909090912\n",
      "1 X 909090912\n",
      "2 X 454545456\n",
      "3 X 303030304\n",
      "4 X 227272728\n",
      "6 X 151515152\n",
      "8 X 113636364\n",
      "12 X 75757576\n",
      "16 X 56818182\n",
      "17 X 53475936\n",
      "24 X 37878788\n",
      "32 X 28409091\n",
      "34 X 26737968\n",
      "48 X 18939394\n",
      "51 X 17825312\n",
      "68 X 13368984\n",
      "96 X 9469697\n",
      "102 X 8912656\n",
      "136 X 6684492\n",
      "204 X 4456328\n",
      "272 X 3342246\n",
      "408 X 2228164\n",
      "544 X 1671123\n",
      "816 X 1114082\n",
      "1632 X 557041\n"
     ]
    }
   ],
   "source": [
    "# 가로, 세로 길이가 정수이고 넓이가 area인 직사각형에서 변의 길이 나열하기\n",
    "\n",
    "area = int(input('직사각형의 넓이를 입력하세요.: '))\n",
    "\n",
    "for i in range(1, area+1):\n",
    "    if i * i > area : break\n",
    "    if area % i :continue\n",
    "    print(f'{i} X {area // i}')"
   ]
  }
 ],
 "metadata": {
  "kernelspec": {
   "display_name": "Python 3 (ipykernel)",
   "language": "python",
   "name": "python3"
  },
  "language_info": {
   "codemirror_mode": {
    "name": "ipython",
    "version": 3
   },
   "file_extension": ".py",
   "mimetype": "text/x-python",
   "name": "python",
   "nbconvert_exporter": "python",
   "pygments_lexer": "ipython3",
   "version": "3.9.7"
  }
 },
 "nbformat": 4,
 "nbformat_minor": 5
}
