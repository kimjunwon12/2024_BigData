{
 "cells": [
  {
   "cell_type": "markdown",
   "id": "9e6de1ee",
   "metadata": {},
   "source": [
    "## 30902_김준원_0314_6"
   ]
  },
  {
   "cell_type": "markdown",
   "id": "ca6951d7",
   "metadata": {},
   "source": [
    "## 3.1 데이터를 저장하는 공간: 변수\n",
    "\n",
    "3.1.1 변수란"
   ]
  },
  {
   "cell_type": "code",
   "execution_count": 2,
   "id": "d076dae0",
   "metadata": {},
   "outputs": [],
   "source": [
    "a = 10"
   ]
  },
  {
   "cell_type": "code",
   "execution_count": 4,
   "id": "64859e50",
   "metadata": {},
   "outputs": [],
   "source": [
    "a = 20"
   ]
  },
  {
   "cell_type": "code",
   "execution_count": 5,
   "id": "96258da1",
   "metadata": {},
   "outputs": [
    {
     "name": "stdout",
     "output_type": "stream",
     "text": [
      "20\n"
     ]
    }
   ],
   "source": [
    "print(a)"
   ]
  },
  {
   "cell_type": "markdown",
   "id": "2528b4c6",
   "metadata": {},
   "source": [
    "### 3.1.2 변수에 값을 저장하고 사용하기"
   ]
  },
  {
   "cell_type": "code",
   "execution_count": 8,
   "id": "833d5ca4",
   "metadata": {},
   "outputs": [
    {
     "name": "stdout",
     "output_type": "stream",
     "text": [
      "a\n",
      "10\n"
     ]
    }
   ],
   "source": [
    "a = 10\n",
    "print('a')\n",
    "print(a)"
   ]
  },
  {
   "cell_type": "code",
   "execution_count": 10,
   "id": "054ed1f2",
   "metadata": {},
   "outputs": [
    {
     "name": "stdout",
     "output_type": "stream",
     "text": [
      "10\n"
     ]
    }
   ],
   "source": [
    "가나다 = 10\n",
    "print(가나다)"
   ]
  },
  {
   "cell_type": "code",
   "execution_count": 30,
   "id": "4107fb15",
   "metadata": {},
   "outputs": [
    {
     "name": "stdout",
     "output_type": "stream",
     "text": [
      "유리 키는 175.5 , 나이는 21 ,취미는 programming 입니다!\n"
     ]
    }
   ],
   "source": [
    "name = '유리'\n",
    "height = 175.5 \n",
    "age = 21\n",
    "hobby = 'programming'\n",
    "print(name,'키는',height,', 나이는', age,',취미는', hobby, '입니다!')"
   ]
  },
  {
   "cell_type": "code",
   "execution_count": 38,
   "id": "5c8a9bfe",
   "metadata": {},
   "outputs": [
    {
     "name": "stdout",
     "output_type": "stream",
     "text": [
      "제임스 키는 186 , 나이는 24 ,취미는 요리하기 입니다!\n",
      "제임스 키는 186, 나이는 24, 취미는 요리하기입니다.\n",
      "제임스 키는 186 , 나이는 24, 취미는 요리하기 입니다.\n"
     ]
    }
   ],
   "source": [
    "name = '제임스'\n",
    "height = 186 \n",
    "age = 24\n",
    "hobby = '요리하기'\n",
    "print(name,'키는',height,', 나이는', age,',취미는', hobby, '입니다!')\n",
    "print('{} 키는 {}, 나이는 {}, 취미는 {}입니다.'.format(name, height, age, hobby))\n",
    "print(f'{name} 키는 {height} , 나이는 {age}, 취미는 {hobby} 입니다.')"
   ]
  },
  {
   "cell_type": "markdown",
   "id": "adfc84c1",
   "metadata": {},
   "source": [
    "> 원에 넓이 구해봅시다.\n",
    "\n",
    "공식 : 파이 * 반지름 * 반지름 ** 2\n",
    "p = 3.141592\n",
    "r = 5"
   ]
  },
  {
   "cell_type": "code",
   "execution_count": 51,
   "id": "0a20e6a5",
   "metadata": {},
   "outputs": [
    {
     "name": "stdout",
     "output_type": "stream",
     "text": [
      "원의 넓이 = 78.5398\n"
     ]
    }
   ],
   "source": [
    "p = 3.141592\n",
    "r = 5\n",
    "result = p * r ** 2\n",
    "print(f'원의 넓이 = {result}')"
   ]
  },
  {
   "cell_type": "code",
   "execution_count": null,
   "id": "aef9c5bf",
   "metadata": {},
   "outputs": [],
   "source": []
  }
 ],
 "metadata": {
  "kernelspec": {
   "display_name": "Python 3 (ipykernel)",
   "language": "python",
   "name": "python3"
  },
  "language_info": {
   "codemirror_mode": {
    "name": "ipython",
    "version": 3
   },
   "file_extension": ".py",
   "mimetype": "text/x-python",
   "name": "python",
   "nbconvert_exporter": "python",
   "pygments_lexer": "ipython3",
   "version": "3.9.7"
  }
 },
 "nbformat": 4,
 "nbformat_minor": 5
}
